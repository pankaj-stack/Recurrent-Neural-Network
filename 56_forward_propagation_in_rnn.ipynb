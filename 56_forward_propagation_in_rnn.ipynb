{
 "cells": [
  {
   "cell_type": "markdown",
   "metadata": {},
   "source": [
    "- Rnn ke pass memory ka feature hota hai jisse vo past ka feature ko yaad kr paate hain.\n",
    "- (batch_size,time-step,input-features) :--> input for RNN in tensorflow \n",
    "- Weight sharing is done in RNN while forward propagation.  "
   ]
  },
  {
   "cell_type": "markdown",
   "metadata": {},
   "source": [
    "- timesteps == length of the sequence"
   ]
  },
  {
   "cell_type": "markdown",
   "metadata": {},
   "source": [
    "To prepare input data for an RNN (Recurrent Neural Network) in TensorFlow, you need to shape your data appropriately. Typically, the input data for an RNN should be in the shape of [batch_size, timesteps, features]. Here's a detailed explanation of each component and a code example to illustrate the process:\n",
    "\n",
    "Components of RNN Input:\n",
    "Batch Size: The number of samples processed together in one pass through the network.\n",
    "Timesteps: The number of time steps in each sample (sequence length).\n",
    "Features: The number of features per time step (dimensionality of the input data).\n",
    "Example Workflow:\n",
    "Data Preparation:\n",
    "\n",
    "Load your dataset.\n",
    "Preprocess your data (e.g., normalization, scaling).\n",
    "Create sequences and labels (for supervised learning).\n",
    "Reshape Data:\n",
    "\n",
    "Ensure your input data matches the required shape [batch_size, timesteps, features].\n"
   ]
  },
  {
   "cell_type": "markdown",
   "metadata": {},
   "source": [
    "(batch_size, length of the sequence, no. of features) <======= input for rnn "
   ]
  },
  {
   "cell_type": "code",
   "execution_count": 22,
   "metadata": {},
   "outputs": [
    {
     "data": {
      "text/plain": [
       "array([[0.37454012, 0.95071431, 0.73199394, 0.59865848, 0.15601864],\n",
       "       [0.15599452, 0.05808361, 0.86617615, 0.60111501, 0.70807258],\n",
       "       [0.02058449, 0.96990985, 0.83244264, 0.21233911, 0.18182497],\n",
       "       ...,\n",
       "       [0.1531445 , 0.72811644, 0.60025141, 0.73125059, 0.76974662],\n",
       "       [0.97541037, 0.57356328, 0.34164111, 0.64846456, 0.06844071],\n",
       "       [0.89739732, 0.11938101, 0.32784284, 0.81574538, 0.59731238]])"
      ]
     },
     "execution_count": 22,
     "metadata": {},
     "output_type": "execute_result"
    }
   ],
   "source": [
    "# Example Code:\n",
    "import numpy as np\n",
    "import tensorflow as tf\n",
    "from sklearn.preprocessing import StandardScaler\n",
    "\n",
    "# Assume data is already loaded and preprocessed into a pandas DataFrame `df`\n",
    "# For this example, let's create some dummy data\n",
    "np.random.seed(42)\n",
    "num_samples = 1000\n",
    "timesteps = 10\n",
    "features = 5\n",
    "\n",
    "# Generate random data\n",
    "data = np.random.rand(num_samples, features)\n",
    "data \n"
   ]
  },
  {
   "cell_type": "code",
   "execution_count": 23,
   "metadata": {},
   "outputs": [
    {
     "data": {
      "text/plain": [
       "(1000, 5)"
      ]
     },
     "execution_count": 23,
     "metadata": {},
     "output_type": "execute_result"
    }
   ],
   "source": [
    "data.shape"
   ]
  },
  {
   "cell_type": "code",
   "execution_count": 24,
   "metadata": {},
   "outputs": [
    {
     "data": {
      "text/plain": [
       "1000"
      ]
     },
     "execution_count": 24,
     "metadata": {},
     "output_type": "execute_result"
    }
   ],
   "source": [
    "len(data)"
   ]
  },
  {
   "cell_type": "code",
   "execution_count": 25,
   "metadata": {},
   "outputs": [
    {
     "data": {
      "text/plain": [
       "990"
      ]
     },
     "execution_count": 25,
     "metadata": {},
     "output_type": "execute_result"
    }
   ],
   "source": [
    "len(data) - timesteps"
   ]
  },
  {
   "cell_type": "code",
   "execution_count": 26,
   "metadata": {},
   "outputs": [
    {
     "data": {
      "text/plain": [
       "array([[[3.74540119e-01, 9.50714306e-01, 7.31993942e-01, 5.98658484e-01,\n",
       "         1.56018640e-01],\n",
       "        [1.55994520e-01, 5.80836122e-02, 8.66176146e-01, 6.01115012e-01,\n",
       "         7.08072578e-01],\n",
       "        [2.05844943e-02, 9.69909852e-01, 8.32442641e-01, 2.12339111e-01,\n",
       "         1.81824967e-01],\n",
       "        ...,\n",
       "        [8.08397348e-01, 3.04613769e-01, 9.76721140e-02, 6.84233027e-01,\n",
       "         4.40152494e-01],\n",
       "        [1.22038235e-01, 4.95176910e-01, 3.43885211e-02, 9.09320402e-01,\n",
       "         2.58779982e-01],\n",
       "        [6.62522284e-01, 3.11711076e-01, 5.20068021e-01, 5.46710279e-01,\n",
       "         1.84854456e-01]],\n",
       "\n",
       "       [[1.55994520e-01, 5.80836122e-02, 8.66176146e-01, 6.01115012e-01,\n",
       "         7.08072578e-01],\n",
       "        [2.05844943e-02, 9.69909852e-01, 8.32442641e-01, 2.12339111e-01,\n",
       "         1.81824967e-01],\n",
       "        [1.83404510e-01, 3.04242243e-01, 5.24756432e-01, 4.31945019e-01,\n",
       "         2.91229140e-01],\n",
       "        ...,\n",
       "        [1.22038235e-01, 4.95176910e-01, 3.43885211e-02, 9.09320402e-01,\n",
       "         2.58779982e-01],\n",
       "        [6.62522284e-01, 3.11711076e-01, 5.20068021e-01, 5.46710279e-01,\n",
       "         1.84854456e-01],\n",
       "        [9.69584628e-01, 7.75132823e-01, 9.39498942e-01, 8.94827350e-01,\n",
       "         5.97899979e-01]],\n",
       "\n",
       "       [[2.05844943e-02, 9.69909852e-01, 8.32442641e-01, 2.12339111e-01,\n",
       "         1.81824967e-01],\n",
       "        [1.83404510e-01, 3.04242243e-01, 5.24756432e-01, 4.31945019e-01,\n",
       "         2.91229140e-01],\n",
       "        [6.11852895e-01, 1.39493861e-01, 2.92144649e-01, 3.66361843e-01,\n",
       "         4.56069984e-01],\n",
       "        ...,\n",
       "        [6.62522284e-01, 3.11711076e-01, 5.20068021e-01, 5.46710279e-01,\n",
       "         1.84854456e-01],\n",
       "        [9.69584628e-01, 7.75132823e-01, 9.39498942e-01, 8.94827350e-01,\n",
       "         5.97899979e-01],\n",
       "        [9.21874235e-01, 8.84925021e-02, 1.95982862e-01, 4.52272889e-02,\n",
       "         3.25330331e-01]],\n",
       "\n",
       "       ...,\n",
       "\n",
       "       [[3.51649872e-01, 9.09548473e-01, 5.68955483e-01, 7.62174587e-01,\n",
       "         8.11806718e-01],\n",
       "        [3.41849042e-01, 4.33694331e-01, 8.48471774e-01, 3.63255352e-01,\n",
       "         7.93935133e-01],\n",
       "        [9.40992323e-01, 6.23210373e-01, 7.41627287e-01, 8.05097312e-01,\n",
       "         8.45039649e-01],\n",
       "        ...,\n",
       "        [4.75100341e-01, 8.97955216e-01, 5.25049340e-01, 7.07278912e-01,\n",
       "         2.52172877e-01],\n",
       "        [4.46726469e-01, 1.23449866e-01, 2.05980036e-01, 9.43415268e-04,\n",
       "         3.92650516e-02],\n",
       "        [9.77283823e-01, 2.42353695e-01, 6.63310710e-01, 8.39099699e-01,\n",
       "         5.50660459e-01]],\n",
       "\n",
       "       [[3.41849042e-01, 4.33694331e-01, 8.48471774e-01, 3.63255352e-01,\n",
       "         7.93935133e-01],\n",
       "        [9.40992323e-01, 6.23210373e-01, 7.41627287e-01, 8.05097312e-01,\n",
       "         8.45039649e-01],\n",
       "        [3.95053338e-01, 5.12634592e-02, 4.01876271e-01, 6.73756230e-01,\n",
       "         4.50350386e-01],\n",
       "        ...,\n",
       "        [4.46726469e-01, 1.23449866e-01, 2.05980036e-01, 9.43415268e-04,\n",
       "         3.92650516e-02],\n",
       "        [9.77283823e-01, 2.42353695e-01, 6.63310710e-01, 8.39099699e-01,\n",
       "         5.50660459e-01],\n",
       "        [1.53144500e-01, 7.28116437e-01, 6.00251410e-01, 7.31250589e-01,\n",
       "         7.69746623e-01]],\n",
       "\n",
       "       [[9.40992323e-01, 6.23210373e-01, 7.41627287e-01, 8.05097312e-01,\n",
       "         8.45039649e-01],\n",
       "        [3.95053338e-01, 5.12634592e-02, 4.01876271e-01, 6.73756230e-01,\n",
       "         4.50350386e-01],\n",
       "        [7.48963151e-01, 3.56982429e-01, 6.34744141e-01, 1.86419805e-01,\n",
       "         7.49369437e-01],\n",
       "        ...,\n",
       "        [9.77283823e-01, 2.42353695e-01, 6.63310710e-01, 8.39099699e-01,\n",
       "         5.50660459e-01],\n",
       "        [1.53144500e-01, 7.28116437e-01, 6.00251410e-01, 7.31250589e-01,\n",
       "         7.69746623e-01],\n",
       "        [9.75410368e-01, 5.73563280e-01, 3.41641113e-01, 6.48464557e-01,\n",
       "         6.84407092e-02]]])"
      ]
     },
     "execution_count": 26,
     "metadata": {},
     "output_type": "execute_result"
    }
   ],
   "source": [
    "def create_sequences(data, timesteps):\n",
    "    sequences = []\n",
    "    labels = [] # next value in the data\n",
    "    for i in range(len(data) - timesteps):\n",
    "        sequences.append(data[i:i + timesteps])\n",
    "        labels.append(data[i + timesteps])\n",
    "    return np.array(sequences), np.array(labels)\n",
    "\n",
    "# Create sequences and labels\n",
    "X, y = create_sequences(data, timesteps)\n",
    "X"
   ]
  },
  {
   "cell_type": "code",
   "execution_count": 28,
   "metadata": {},
   "outputs": [
    {
     "data": {
      "text/plain": [
       "990"
      ]
     },
     "execution_count": 28,
     "metadata": {},
     "output_type": "execute_result"
    }
   ],
   "source": [
    "len(X)"
   ]
  },
  {
   "cell_type": "code",
   "execution_count": 31,
   "metadata": {},
   "outputs": [
    {
     "data": {
      "text/plain": [
       "(990, 10, 5)"
      ]
     },
     "execution_count": 31,
     "metadata": {},
     "output_type": "execute_result"
    }
   ],
   "source": [
    "X.shape"
   ]
  },
  {
   "cell_type": "code",
   "execution_count": 29,
   "metadata": {},
   "outputs": [
    {
     "data": {
      "text/plain": [
       "array([[0.96958463, 0.77513282, 0.93949894, 0.89482735, 0.59789998],\n",
       "       [0.92187424, 0.0884925 , 0.19598286, 0.04522729, 0.32533033],\n",
       "       [0.38867729, 0.27134903, 0.82873751, 0.35675333, 0.28093451],\n",
       "       ...,\n",
       "       [0.1531445 , 0.72811644, 0.60025141, 0.73125059, 0.76974662],\n",
       "       [0.97541037, 0.57356328, 0.34164111, 0.64846456, 0.06844071],\n",
       "       [0.89739732, 0.11938101, 0.32784284, 0.81574538, 0.59731238]])"
      ]
     },
     "execution_count": 29,
     "metadata": {},
     "output_type": "execute_result"
    }
   ],
   "source": [
    "y"
   ]
  },
  {
   "cell_type": "code",
   "execution_count": 32,
   "metadata": {},
   "outputs": [],
   "source": [
    "#  Scale features\n",
    "scaler = StandardScaler()"
   ]
  },
  {
   "cell_type": "code",
   "execution_count": 33,
   "metadata": {},
   "outputs": [
    {
     "data": {
      "text/plain": [
       "array([[0.37454012, 0.95071431, 0.73199394, 0.59865848, 0.15601864],\n",
       "       [0.15599452, 0.05808361, 0.86617615, 0.60111501, 0.70807258],\n",
       "       [0.02058449, 0.96990985, 0.83244264, 0.21233911, 0.18182497],\n",
       "       ...,\n",
       "       [0.97728382, 0.2423537 , 0.66331071, 0.8390997 , 0.55066046],\n",
       "       [0.1531445 , 0.72811644, 0.60025141, 0.73125059, 0.76974662],\n",
       "       [0.97541037, 0.57356328, 0.34164111, 0.64846456, 0.06844071]])"
      ]
     },
     "execution_count": 33,
     "metadata": {},
     "output_type": "execute_result"
    }
   ],
   "source": [
    "X = X.reshape(-1, features) # to convert in 2-d to scale the data other wise for 3-d it gives error \n",
    "X "
   ]
  },
  {
   "cell_type": "code",
   "execution_count": 34,
   "metadata": {},
   "outputs": [
    {
     "data": {
      "text/plain": [
       "9900"
      ]
     },
     "execution_count": 34,
     "metadata": {},
     "output_type": "execute_result"
    }
   ],
   "source": [
    "len(X)"
   ]
  },
  {
   "cell_type": "code",
   "execution_count": 35,
   "metadata": {},
   "outputs": [
    {
     "data": {
      "text/plain": [
       "(9900, 5)"
      ]
     },
     "execution_count": 35,
     "metadata": {},
     "output_type": "execute_result"
    }
   ],
   "source": [
    "X.shape"
   ]
  },
  {
   "cell_type": "code",
   "execution_count": 38,
   "metadata": {},
   "outputs": [
    {
     "data": {
      "text/plain": [
       "array([[-0.42000153,  1.51861954,  0.84946284,  0.35494899, -1.19410894],\n",
       "       [-1.17419949, -1.49285736,  1.31970701,  0.36350691,  0.71634086],\n",
       "       [-1.64149769,  1.58337974,  1.20148728, -0.99089064, -1.10480301],\n",
       "       ...,\n",
       "       [ 1.660059  , -0.87118358,  0.60876111,  1.19258576,  0.17159708],\n",
       "       [-1.18403487,  0.76763893,  0.38776855,  0.81686657,  0.9297714 ],\n",
       "       [ 1.65359373,  0.24622143, -0.51853632,  0.52846083, -1.49718302]])"
      ]
     },
     "execution_count": 38,
     "metadata": {},
     "output_type": "execute_result"
    }
   ],
   "source": [
    "X = scaler.fit_transform(X)\n",
    "X"
   ]
  },
  {
   "cell_type": "code",
   "execution_count": 39,
   "metadata": {},
   "outputs": [
    {
     "data": {
      "text/plain": [
       "array([[[-0.42000153,  1.51861954,  0.84946284,  0.35494899,\n",
       "         -1.19410894],\n",
       "        [-1.17419949, -1.49285736,  1.31970701,  0.36350691,\n",
       "          0.71634086],\n",
       "        [-1.64149769,  1.58337974,  1.20148728, -0.99089064,\n",
       "         -1.10480301],\n",
       "        ...,\n",
       "        [ 1.07723401, -0.66113616, -1.37353047,  0.65306919,\n",
       "         -0.21082918],\n",
       "        [-1.29138218, -0.01823143, -1.59530906,  1.43721705,\n",
       "         -0.83849082],\n",
       "        [ 0.5738211 , -0.63719191,  0.10676429,  0.17397449,\n",
       "         -1.09431909]],\n",
       "\n",
       "       [[-1.17419949, -1.49285736,  1.31970701,  0.36350691,\n",
       "          0.71634086],\n",
       "        [-1.64149769,  1.58337974,  1.20148728, -0.99089064,\n",
       "         -1.10480301],\n",
       "        [-1.07960798, -0.66238958,  0.12319492, -0.22583884,\n",
       "         -0.72619656],\n",
       "        ...,\n",
       "        [-1.29138218, -0.01823143, -1.59530906,  1.43721705,\n",
       "         -0.83849082],\n",
       "        [ 0.5738211 , -0.63719191,  0.10676429,  0.17397449,\n",
       "         -1.09431909],\n",
       "        [ 1.63348918,  0.92625857,  1.57666819,  1.3867269 ,\n",
       "          0.33507518]],\n",
       "\n",
       "       [[-1.64149769,  1.58337974,  1.20148728, -0.99089064,\n",
       "         -1.10480301],\n",
       "        [-1.07960798, -0.66238958,  0.12319492, -0.22583884,\n",
       "         -0.72619656],\n",
       "        [ 0.39896171, -1.21820281, -0.69199765, -0.45431414,\n",
       "         -0.15574477],\n",
       "        ...,\n",
       "        [ 0.5738211 , -0.63719191,  0.10676429,  0.17397449,\n",
       "         -1.09431909],\n",
       "        [ 1.63348918,  0.92625857,  1.57666819,  1.3867269 ,\n",
       "          0.33507518],\n",
       "        [ 1.46884124, -1.39026659, -1.02899852, -1.57306624,\n",
       "         -0.60818524]],\n",
       "\n",
       "       ...,\n",
       "\n",
       "       [[-0.49899546,  1.37973796,  0.27809136,  0.924598  ,\n",
       "          1.07532547],\n",
       "        [-0.532818  , -0.22565581,  1.2576617 , -0.46513638,\n",
       "          1.01347868],\n",
       "        [ 1.53481751,  0.41371632,  0.88322309,  1.07412999,\n",
       "          1.19033207],\n",
       "        ...,\n",
       "        [-0.07296954,  1.34062568,  0.12422142,  0.73335526,\n",
       "         -0.8613555 ],\n",
       "        [-0.17088739, -1.27233059, -0.99396323, -1.72734012,\n",
       "         -1.59814893],\n",
       "        [ 1.660059  , -0.87118358,  0.60876111,  1.19258576,\n",
       "          0.17159708]],\n",
       "\n",
       "       [[-0.532818  , -0.22565581,  1.2576617 , -0.46513638,\n",
       "          1.01347868],\n",
       "        [ 1.53481751,  0.41371632,  0.88322309,  1.07412999,\n",
       "          1.19033207],\n",
       "        [-0.34921068, -1.51586658, -0.30744102,  0.61657066,\n",
       "         -0.17553813],\n",
       "        ...,\n",
       "        [-0.17088739, -1.27233059, -0.99396323, -1.72734012,\n",
       "         -1.59814893],\n",
       "        [ 1.660059  , -0.87118358,  0.60876111,  1.19258576,\n",
       "          0.17159708],\n",
       "        [-1.18403487,  0.76763893,  0.38776855,  0.81686657,\n",
       "          0.9297714 ]],\n",
       "\n",
       "       [[ 1.53481751,  0.41371632,  0.88322309,  1.07412999,\n",
       "          1.19033207],\n",
       "        [-0.34921068, -1.51586658, -0.30744102,  0.61657066,\n",
       "         -0.17553813],\n",
       "        [ 0.87212739, -0.4844595 ,  0.50864901, -1.08118699,\n",
       "          0.85925367],\n",
       "        ...,\n",
       "        [ 1.660059  , -0.87118358,  0.60876111,  1.19258576,\n",
       "          0.17159708],\n",
       "        [-1.18403487,  0.76763893,  0.38776855,  0.81686657,\n",
       "          0.9297714 ],\n",
       "        [ 1.65359373,  0.24622143, -0.51853632,  0.52846083,\n",
       "         -1.49718302]]])"
      ]
     },
     "execution_count": 39,
     "metadata": {},
     "output_type": "execute_result"
    }
   ],
   "source": [
    "X = X.reshape(-1, timesteps, features)\n",
    "X"
   ]
  },
  {
   "cell_type": "code",
   "execution_count": 41,
   "metadata": {},
   "outputs": [
    {
     "data": {
      "text/plain": [
       "990"
      ]
     },
     "execution_count": 41,
     "metadata": {},
     "output_type": "execute_result"
    }
   ],
   "source": [
    "len(X)"
   ]
  },
  {
   "cell_type": "code",
   "execution_count": 40,
   "metadata": {},
   "outputs": [
    {
     "data": {
      "text/plain": [
       "(990, 10, 5)"
      ]
     },
     "execution_count": 40,
     "metadata": {},
     "output_type": "execute_result"
    }
   ],
   "source": [
    "X.shape"
   ]
  },
  {
   "cell_type": "code",
   "execution_count": 42,
   "metadata": {},
   "outputs": [],
   "source": [
    "# Split into training and testing sets\n",
    "train_size = int(len(X) * 0.8)\n",
    "X_train, X_test = X[:train_size], X[train_size:]\n",
    "y_train, y_test = y[:train_size], y[train_size:]\n"
   ]
  },
  {
   "cell_type": "code",
   "execution_count": 44,
   "metadata": {},
   "outputs": [
    {
     "data": {
      "text/plain": [
       "792"
      ]
     },
     "execution_count": 44,
     "metadata": {},
     "output_type": "execute_result"
    }
   ],
   "source": [
    "train_size"
   ]
  },
  {
   "cell_type": "code",
   "execution_count": 48,
   "metadata": {},
   "outputs": [
    {
     "data": {
      "text/plain": [
       "24"
      ]
     },
     "execution_count": 48,
     "metadata": {},
     "output_type": "execute_result"
    }
   ],
   "source": [
    "792//32"
   ]
  },
  {
   "cell_type": "code",
   "execution_count": 50,
   "metadata": {},
   "outputs": [
    {
     "name": "stdout",
     "output_type": "stream",
     "text": [
      "Model: \"sequential_3\"\n",
      "_________________________________________________________________\n",
      " Layer (type)                Output Shape              Param #   \n",
      "=================================================================\n",
      " simple_rnn_3 (SimpleRNN)    (None, 50)                2800      \n",
      "                                                                 \n",
      " dense_3 (Dense)             (None, 1)                 51        \n",
      "                                                                 \n",
      "=================================================================\n",
      "Total params: 2,851\n",
      "Trainable params: 2,851\n",
      "Non-trainable params: 0\n",
      "_________________________________________________________________\n",
      "Epoch 1/20\n",
      "40/40 [==============================] - 1s 7ms/step - loss: 0.4266 - val_loss: 0.1762\n",
      "Epoch 2/20\n",
      "40/40 [==============================] - 0s 3ms/step - loss: 0.1492 - val_loss: 0.1333\n",
      "Epoch 3/20\n",
      "40/40 [==============================] - 0s 3ms/step - loss: 0.1192 - val_loss: 0.1201\n",
      "Epoch 4/20\n",
      "40/40 [==============================] - 0s 3ms/step - loss: 0.1082 - val_loss: 0.1137\n",
      "Epoch 5/20\n",
      "40/40 [==============================] - 0s 3ms/step - loss: 0.1017 - val_loss: 0.1103\n",
      "Epoch 6/20\n",
      "40/40 [==============================] - 0s 3ms/step - loss: 0.0982 - val_loss: 0.1070\n",
      "Epoch 7/20\n",
      "40/40 [==============================] - 0s 3ms/step - loss: 0.0941 - val_loss: 0.1055\n",
      "Epoch 8/20\n",
      "40/40 [==============================] - 0s 3ms/step - loss: 0.0916 - val_loss: 0.1030\n",
      "Epoch 9/20\n",
      "40/40 [==============================] - 0s 3ms/step - loss: 0.0898 - val_loss: 0.1023\n",
      "Epoch 10/20\n",
      "40/40 [==============================] - 0s 3ms/step - loss: 0.0877 - val_loss: 0.1027\n",
      "Epoch 11/20\n",
      "40/40 [==============================] - 0s 3ms/step - loss: 0.0865 - val_loss: 0.1004\n",
      "Epoch 12/20\n",
      "40/40 [==============================] - 0s 3ms/step - loss: 0.0853 - val_loss: 0.0999\n",
      "Epoch 13/20\n",
      "40/40 [==============================] - 0s 3ms/step - loss: 0.0840 - val_loss: 0.0998\n",
      "Epoch 14/20\n",
      "40/40 [==============================] - 0s 3ms/step - loss: 0.0833 - val_loss: 0.1000\n",
      "Epoch 15/20\n",
      "40/40 [==============================] - 0s 3ms/step - loss: 0.0826 - val_loss: 0.0990\n",
      "Epoch 16/20\n",
      "40/40 [==============================] - 0s 3ms/step - loss: 0.0816 - val_loss: 0.0989\n",
      "Epoch 17/20\n",
      "40/40 [==============================] - 0s 3ms/step - loss: 0.0808 - val_loss: 0.0987\n",
      "Epoch 18/20\n",
      "40/40 [==============================] - 0s 3ms/step - loss: 0.0801 - val_loss: 0.0986\n",
      "Epoch 19/20\n",
      "40/40 [==============================] - 0s 3ms/step - loss: 0.0795 - val_loss: 0.0985\n",
      "Epoch 20/20\n",
      "40/40 [==============================] - 0s 3ms/step - loss: 0.0790 - val_loss: 0.0983\n",
      "7/7 [==============================] - 0s 1ms/step\n",
      "[[0.41474855]\n",
      " [0.42667797]\n",
      " [0.40852672]\n",
      " [0.48958877]\n",
      " [0.4611601 ]\n",
      " [0.54517365]\n",
      " [0.31451845]\n",
      " [0.65786403]\n",
      " [0.52035236]\n",
      " [0.34760952]\n",
      " [0.4752754 ]\n",
      " [0.697745  ]\n",
      " [0.48328796]\n",
      " [0.55408835]\n",
      " [0.40474775]\n",
      " [0.5054387 ]\n",
      " [0.5740777 ]\n",
      " [0.4617888 ]\n",
      " [0.742383  ]\n",
      " [0.6043803 ]\n",
      " [0.57620126]\n",
      " [0.44326362]\n",
      " [0.42448068]\n",
      " [0.55329025]\n",
      " [0.53989077]\n",
      " [0.5010581 ]\n",
      " [0.47711557]\n",
      " [0.6352951 ]\n",
      " [0.5000956 ]\n",
      " [0.44987875]\n",
      " [0.47452524]\n",
      " [0.46341166]\n",
      " [0.59435076]\n",
      " [0.2886912 ]\n",
      " [0.46495047]\n",
      " [0.41039696]\n",
      " [0.3576088 ]\n",
      " [0.38811755]\n",
      " [0.48867473]\n",
      " [0.6074473 ]\n",
      " [0.5096807 ]\n",
      " [0.7703954 ]\n",
      " [0.66395396]\n",
      " [0.51091594]\n",
      " [0.51271033]\n",
      " [0.42248175]\n",
      " [0.4869906 ]\n",
      " [0.47547773]\n",
      " [0.48339862]\n",
      " [0.44349933]\n",
      " [0.41671643]\n",
      " [0.34664825]\n",
      " [0.24641389]\n",
      " [0.29734084]\n",
      " [0.34737182]\n",
      " [0.41076764]\n",
      " [0.40402976]\n",
      " [0.4406601 ]\n",
      " [0.4538835 ]\n",
      " [0.50564206]\n",
      " [0.5599492 ]\n",
      " [0.40733293]\n",
      " [0.6183478 ]\n",
      " [0.5505944 ]\n",
      " [0.73742425]\n",
      " [0.47573408]\n",
      " [0.34753677]\n",
      " [0.46936035]\n",
      " [0.42704478]\n",
      " [0.49533534]\n",
      " [0.42492068]\n",
      " [0.49524605]\n",
      " [0.58598965]\n",
      " [0.67104775]\n",
      " [0.40200117]\n",
      " [0.49581814]\n",
      " [0.5023974 ]\n",
      " [0.71240884]\n",
      " [0.6206262 ]\n",
      " [0.5852085 ]\n",
      " [0.37546048]\n",
      " [0.49433485]\n",
      " [0.5369154 ]\n",
      " [0.46647438]\n",
      " [0.6028483 ]\n",
      " [0.67585146]\n",
      " [0.7262689 ]\n",
      " [0.4686096 ]\n",
      " [0.4304817 ]\n",
      " [0.4778268 ]\n",
      " [0.3851834 ]\n",
      " [0.4878902 ]\n",
      " [0.50946605]\n",
      " [0.4992907 ]\n",
      " [0.61687785]\n",
      " [0.49280396]\n",
      " [0.45396215]\n",
      " [0.46951607]\n",
      " [0.46079117]\n",
      " [0.34150088]\n",
      " [0.22998065]\n",
      " [0.6124708 ]\n",
      " [0.44270757]\n",
      " [0.32805425]\n",
      " [0.5298717 ]\n",
      " [0.5358964 ]\n",
      " [0.65444213]\n",
      " [0.6646296 ]\n",
      " [0.36445692]\n",
      " [0.4711186 ]\n",
      " [0.49538222]\n",
      " [0.71980625]\n",
      " [0.49688917]\n",
      " [0.58056414]\n",
      " [0.69162285]\n",
      " [0.40667364]\n",
      " [0.4903907 ]\n",
      " [0.3284268 ]\n",
      " [0.5692273 ]\n",
      " [0.36204928]\n",
      " [0.4263912 ]\n",
      " [0.36389932]\n",
      " [0.51447326]\n",
      " [0.46780643]\n",
      " [0.60476834]\n",
      " [0.6702062 ]\n",
      " [0.26166725]\n",
      " [0.41692242]\n",
      " [0.4261394 ]\n",
      " [0.38927835]\n",
      " [0.63962036]\n",
      " [0.5140387 ]\n",
      " [0.55996215]\n",
      " [0.49175683]\n",
      " [0.44462764]\n",
      " [0.39705956]\n",
      " [0.40528023]\n",
      " [0.70500374]\n",
      " [0.38272572]\n",
      " [0.55765164]\n",
      " [0.49140528]\n",
      " [0.46118256]\n",
      " [0.4679084 ]\n",
      " [0.48256132]\n",
      " [0.5133253 ]\n",
      " [0.71225333]\n",
      " [0.5561921 ]\n",
      " [0.6089979 ]\n",
      " [0.45821437]\n",
      " [0.5522762 ]\n",
      " [0.36899248]\n",
      " [0.49060404]\n",
      " [0.4024161 ]\n",
      " [0.40078107]\n",
      " [0.56916064]\n",
      " [0.64994335]\n",
      " [0.55288315]\n",
      " [0.39696604]\n",
      " [0.49217972]\n",
      " [0.36923116]\n",
      " [0.44663903]\n",
      " [0.55580974]\n",
      " [0.48389962]\n",
      " [0.5207225 ]\n",
      " [0.6407882 ]\n",
      " [0.5468476 ]\n",
      " [0.44336158]\n",
      " [0.672019  ]\n",
      " [0.35885817]\n",
      " [0.6027481 ]\n",
      " [0.49713698]\n",
      " [0.49349222]\n",
      " [0.47473368]\n",
      " [0.48080912]\n",
      " [0.49537313]\n",
      " [0.42207074]\n",
      " [0.49598733]\n",
      " [0.51648295]\n",
      " [0.4980894 ]\n",
      " [0.56803155]\n",
      " [0.5168107 ]\n",
      " [0.37189633]\n",
      " [0.27383196]\n",
      " [0.4098147 ]\n",
      " [0.61504495]\n",
      " [0.4857939 ]\n",
      " [0.54690874]\n",
      " [0.46664128]\n",
      " [0.4556453 ]\n",
      " [0.46431485]\n",
      " [0.44771373]\n",
      " [0.49197868]\n",
      " [0.35520306]\n",
      " [0.44790423]\n",
      " [0.46572837]\n",
      " [0.8889238 ]\n",
      " [0.5457059 ]\n",
      " [0.65044874]]\n"
     ]
    }
   ],
   "source": [
    "\n",
    "# Define the RNN model\n",
    "model = tf.keras.models.Sequential([\n",
    "    tf.keras.layers.SimpleRNN(50, activation='relu', input_shape=(timesteps, features)),\n",
    "    tf.keras.layers.Dense(1)\n",
    "])\n",
    "\n",
    "# Compile the model\n",
    "model.compile(optimizer='adam', loss='mse')\n",
    "\n",
    "# Print model summary\n",
    "model.summary()\n",
    "\n",
    "# Train the model\n",
    "model.fit(X_train, y_train, epochs=20, batch_size=16, validation_split=0.2)\n",
    "\n",
    "# Make predictions\n",
    "predictions = model.predict(X_test)\n",
    "\n",
    "# Print predictions\n",
    "print(predictions)"
   ]
  },
  {
   "cell_type": "markdown",
   "metadata": {},
   "source": [
    "Explanation:\n",
    "Data Generation:\n",
    "\n",
    "Generate some random data to simulate a dataset with 1000 samples and 5 features.\n",
    "Create Sequences:\n",
    "\n",
    "Create sequences of a fixed length (10 timesteps) and corresponding labels.\n",
    "Feature Scaling:\n",
    "\n",
    "Normalize the features using StandardScaler to ensure the data has a mean of 0 and a standard deviation of 1.\n",
    "Reshape Data:\n",
    "\n",
    "Reshape the scaled data back to the required shape [samples, timesteps, features].\n",
    "Train-Test Split:\n",
    "\n",
    "Split the data into training and testing sets.\n",
    "Model Definition:\n",
    "\n",
    "Define a simple RNN model using SimpleRNN layer followed by a dense output layer.\n",
    "Model Compilation and Training:\n",
    "\n",
    "Compile the model with the Adam optimizer and mean squared error loss function.\n",
    "Train the model on the training data.\n",
    "Make Predictions:\n",
    "\n",
    "Use the trained model to make predictions on the test data.\n",
    "This code provides a basic setup for preparing and training an RNN model in TensorFlow. Adjust the parameters and model architecture based on your specific use case and dataset."
   ]
  },
  {
   "cell_type": "markdown",
   "metadata": {},
   "source": []
  }
 ],
 "metadata": {
  "kernelspec": {
   "display_name": "base",
   "language": "python",
   "name": "python3"
  },
  "language_info": {
   "codemirror_mode": {
    "name": "ipython",
    "version": 3
   },
   "file_extension": ".py",
   "mimetype": "text/x-python",
   "name": "python",
   "nbconvert_exporter": "python",
   "pygments_lexer": "ipython3",
   "version": "3.9.0"
  }
 },
 "nbformat": 4,
 "nbformat_minor": 2
}
