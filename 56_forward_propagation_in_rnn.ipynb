{
 "cells": [
  {
   "cell_type": "markdown",
   "metadata": {},
   "source": [
    "- Rnn ke pass memory ka feature hota hai jisse vo past ka feature ko yaad kr paate hain.\n",
    "- (batch_size,time-step,input-features) :--> input for RNN in tensorflow \n",
    "- Weight sharing is done in RNN while forward propagation.  "
   ]
  }
 ],
 "metadata": {
  "language_info": {
   "name": "python"
  }
 },
 "nbformat": 4,
 "nbformat_minor": 2
}
