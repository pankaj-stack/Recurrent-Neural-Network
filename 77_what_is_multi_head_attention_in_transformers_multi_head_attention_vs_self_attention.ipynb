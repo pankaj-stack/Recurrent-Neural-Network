{
 "cells": [
  {
   "cell_type": "markdown",
   "metadata": {},
   "source": [
    "- **self attention** static embedding ko contextual embedding me convert kr deti hai. \n",
    "- **self attention** me bhi ek problem hai vo ye hai ki ** ek sentence ke multiple perspective** ko find nhi kr pata hai aur ese bahut dekha jata hai. Jaise : The man saw the astronomer with a telescope."
   ]
  },
  {
   "cell_type": "markdown",
   "metadata": {},
   "source": [
    "- **self attention** ke problem ko dur krne ke liye aaya **multi-head attention**. \n",
    "- ** multi-head attention kise kehte hain : jb hum ek se jyada **self-attention** ka use krte hain tb yah multi-head attention kehlata hai. \n",
    "- jb hum **multi-head attention** use  krte hain to hame ek se jyada **contextual embedding** milti hain. \n",
    "- original paper(atten is all you need) me **8-head attention** ko use kiya gya hai"
   ]
  },
  {
   "cell_type": "markdown",
   "metadata": {},
   "source": [
    "https://colab.research.google.com/drive/1hXIQ77A4TYS4y3UthWF-Ci7V7vVUoxmQ#scrollTo=YLAhBxDSScmV"
   ]
  },
  {
   "cell_type": "markdown",
   "metadata": {},
   "source": [
    "The above link for multi-head visualtion that how it works"
   ]
  },
  {
   "cell_type": "code",
   "execution_count": 2,
   "metadata": {},
   "outputs": [
    {
     "data": {
      "text/plain": [
       "'78_positional_encoding_in_transformers'"
      ]
     },
     "execution_count": 2,
     "metadata": {},
     "output_type": "execute_result"
    }
   ],
   "source": [
    "'78_Positional Encoding in Transformers'.replace(' ','_').lower()"
   ]
  },
  {
   "cell_type": "code",
   "execution_count": null,
   "metadata": {},
   "outputs": [],
   "source": []
  }
 ],
 "metadata": {
  "kernelspec": {
   "display_name": "base",
   "language": "python",
   "name": "python3"
  },
  "language_info": {
   "codemirror_mode": {
    "name": "ipython",
    "version": 3
   },
   "file_extension": ".py",
   "mimetype": "text/x-python",
   "name": "python",
   "nbconvert_exporter": "python",
   "pygments_lexer": "ipython3",
   "version": "3.9.19"
  }
 },
 "nbformat": 4,
 "nbformat_minor": 2
}
