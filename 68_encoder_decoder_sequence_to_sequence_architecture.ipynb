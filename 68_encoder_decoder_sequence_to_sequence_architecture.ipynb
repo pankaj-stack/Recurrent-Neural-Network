{
 "cells": [
  {
   "cell_type": "markdown",
   "metadata": {},
   "source": [
    "- encoder -----context vector------> decoder\n",
    "- encoder sequence ko word by word/token by token leta hai aur usko samghta hai phir uska summary generate krat hai. \n",
    "- decoder us generated summary(generated context vector) ko leke word by word trnslate krta dusre laguage me. \n",
    "- encoder ke ander LSTM use hota hai sequence ko process krne ke liye. \n",
    "- english-hindi dataset ko parallel dataset bolte hain. \n",
    "- teacher forcing : decoder jb hum shi input send krte hain to usko teacher forcing kehte hain.\n",
    "- embedding layer ka ek aur bhi meaning hota hai jo ki vo ye hai ki kis bhi thing ko low dimention me represent krna hota hai. \n",
    "- stacked lstm use hua hai encoder and decoder me. \n",
    "- jb hum stacked lstm ko use krte hain to long sequences ko bhi achche se handle ke lete hai.  "
   ]
  },
  {
   "cell_type": "markdown",
   "metadata": {},
   "source": []
  }
 ],
 "metadata": {
  "language_info": {
   "name": "python"
  }
 },
 "nbformat": 4,
 "nbformat_minor": 2
}
