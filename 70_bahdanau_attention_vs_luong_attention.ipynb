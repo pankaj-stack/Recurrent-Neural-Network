{
 "cells": [
  {
   "cell_type": "code",
   "execution_count": null,
   "metadata": {},
   "outputs": [],
   "source": [
    "- bahdanau attention ko additive attention bhi kehte hai. \n",
    "- luong attention bahdanau attention se achcha perform krta hai. \n",
    "- luong attention ko multiplicative attention bhi kehte hai. \n"
   ]
  }
 ],
 "metadata": {
  "language_info": {
   "name": "python"
  }
 },
 "nbformat": 4,
 "nbformat_minor": 2
}
