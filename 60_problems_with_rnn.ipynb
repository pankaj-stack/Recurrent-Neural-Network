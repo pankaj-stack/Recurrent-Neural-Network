{
 "cells": [
  {
   "cell_type": "markdown",
   "metadata": {},
   "source": [
    "- simple rnns utne use nhi hote hain.\n",
    "- rnns suffers from 2 major problems : \n",
    "    - 1. problem of long-term dependency(iska matlab ye hai ki long sentences me normal rnn fail kr jata hai yaad nhi kr paata context ko)\n",
    "    - 2. stagnated training(vanishing gradient problem)\n",
    "- jo 1 problem rnn me hota hai vo vanishing gradient problem ke reason se hota hai. "
   ]
  },
  {
   "cell_type": "markdown",
   "metadata": {},
   "source": [
    "- Solutions for vanishing gradient in rnn:\n",
    "    - 1. change the activation ,use relu or leakyRElu \n",
    "    - 2. better weight initialization \n",
    "    - 3. skip rnns \n",
    "    - 4. LSTM "
   ]
  },
  {
   "cell_type": "markdown",
   "metadata": {
    "vscode": {
     "languageId": "plaintext"
    }
   },
   "source": [
    "- Problem 2: Unstable training(Exploding Gradient)\n",
    "    - Solution:\n",
    "        - 1. Gradient clipping \n",
    "        - 2. Controlled Learning Rate \n",
    "        - 3. LSTM "
   ]
  },
  {
   "cell_type": "markdown",
   "metadata": {},
   "source": []
  }
 ],
 "metadata": {
  "language_info": {
   "name": "python"
  }
 },
 "nbformat": 4,
 "nbformat_minor": 2
}
