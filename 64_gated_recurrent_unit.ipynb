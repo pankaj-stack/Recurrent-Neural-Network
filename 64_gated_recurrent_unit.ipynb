{
 "cells": [
  {
   "cell_type": "markdown",
   "metadata": {},
   "source": [
    "- lstm ======> 1997 me aaye the\n",
    "- gru  ======> 2014 me aaye the \n",
    "- lstm me bahut saare paramter hote hain comparatively gru jisse lstm complex ho jata hai aur ek bare data pe jyada paramter hone ke wajah se training time bahut jyada lag jata hai. \n",
    "- gru simple hota hai lstm ke comparatively and it is having less parameter. \n",
    "- gru me ek hi state hota hai jo ki hidden state kehlata hai. \n",
    "- gru me do gate hote hain\n",
    "    - 1. reset gate \n",
    "    - 2. update gate \n",
    "- hidden state se hi short term and logn term memory ko maintain krta hai gru.\n",
    "- gru me previous hidden state,current hidden state,input,reset gate and update gate in sabhi gates ka dimentions same hota hai har hall me.\n",
    "- "
   ]
  },
  {
   "cell_type": "markdown",
   "metadata": {},
   "source": [
    "LSTM vs GRU\n",
    "     \n"
   ]
  },
  {
   "cell_type": "markdown",
   "metadata": {},
   "source": [
    "Here are the main differences between LSTM and GRU:\n",
    "- 1.Number of Gates:\n",
    "    - LSTM: Has three gates —input (or update) gate, forget gate, and output gate.•\n",
    "    - GRU: Has two gates —reset gate and update gate.•\n",
    "\n",
    "- 2.Memory Units:\n",
    "    - LSTM: Uses two separate states - the cell state (ct) and the hidden state (ht). The cell \n",
    "state acts as an \"internal memory\" and is crucial for carrying long-term dependencies.\n",
    "\n",
    "    - GRU: Simplifies this by using a single hidden state (ht) to both capture and output the \n",
    "memory.\n",
    "\n",
    "- 3.Parameter Count:\n",
    "    - LSTM: Generally has more parameters than a GRU because of its additional gate and \n",
    "separate cell state. For an input size of d and a hidden size of h, the LSTM has 4\n",
    "×((d×ℎ)+(ℎ×ℎ)+ℎ)4×((d×h)+(h×h)+h)parameters.\n",
    "\n",
    "    - GRU: Has fewer parameters. For the same sizes, the GRU has 3×((d×ℎ)+(ℎ×ℎ)+ℎ)3\n",
    "×((d×h)+(h×h)+h)parameters.\n",
    "\n",
    "- 4.Computational Complexity:\n",
    "    - LSTM: Due to the extra gate and cell state, LSTMs are typically more computationally \n",
    "intensive than GRUs.\n",
    "\n",
    "    - GRU: Is simpler and can be faster to compute, especially on smaller datasets or when \n",
    "computational resources are limited.\n",
    "\n",
    "- 5.Empirical Performance:\n",
    "    - LSTM: In many tasks, especially more complex ones, LSTMs have been observed to \n",
    "perform slightly better than GRUs.\n",
    "\n",
    "    - GRU: Can perform comparably to LSTMs on certain tasks, especially when data is \n",
    "limited or tasks are simpler. They can also train faster due to fewer parameters.\n",
    "\n",
    "- 6.Choice in Practice:\n",
    "    - The choice between LSTM and GRU often comes down to empirical testing. Depending \n",
    "on the dataset and task, one might outperform the other. However, GRUs, due to their \n",
    "simplicity, are often the first choice when starting out."
   ]
  },
  {
   "cell_type": "code",
   "execution_count": null,
   "metadata": {},
   "outputs": [],
   "source": []
  }
 ],
 "metadata": {
  "kernelspec": {
   "display_name": "base",
   "language": "python",
   "name": "python3"
  },
  "language_info": {
   "codemirror_mode": {
    "name": "ipython",
    "version": 3
   },
   "file_extension": ".py",
   "mimetype": "text/x-python",
   "name": "python",
   "nbconvert_exporter": "python",
   "pygments_lexer": "ipython3",
   "version": "3.9.13"
  }
 },
 "nbformat": 4,
 "nbformat_minor": 2
}
