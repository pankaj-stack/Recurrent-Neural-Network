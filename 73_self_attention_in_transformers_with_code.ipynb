{
 "cells": [
  {
   "cell_type": "markdown",
   "metadata": {},
   "source": [
    "- word embedding static hoti hai. \n",
    "- normalization ml aur dl ko bahut pasand hai. \n",
    "- jo hum contextual-embeddings nikalte hain word ka sentiment analysis ke liye alaga aur machine translation ke liye alag contextual embeddings banti hai.\n",
    "- contextual embeddings two types ki hoti hain :-> \n",
    "    - 1. **general embeddings** ===> isme learnable parameters nhi hote hain.\n",
    "    - 2. **task-specific** embeddings (ye sabse achchi hoti hai) isme learnable parameters add kr diye hamne(weight and biases)\n",
    "- hamara jo ye contextual embedding hai **task specific** wala ye  isme ye 3 cheeje banti hain :\n",
    "    - 1. query \n",
    "    - 2. key \n",
    "    - 3. value\n"
   ]
  },
  {
   "cell_type": "code",
   "execution_count": null,
   "metadata": {},
   "outputs": [],
   "source": []
  }
 ],
 "metadata": {
  "kernelspec": {
   "display_name": "base",
   "language": "python",
   "name": "python3"
  },
  "language_info": {
   "codemirror_mode": {
    "name": "ipython",
    "version": 3
   },
   "file_extension": ".py",
   "mimetype": "text/x-python",
   "name": "python",
   "nbconvert_exporter": "python",
   "pygments_lexer": "ipython3",
   "version": "3.9.13"
  }
 },
 "nbformat": 4,
 "nbformat_minor": 2
}
