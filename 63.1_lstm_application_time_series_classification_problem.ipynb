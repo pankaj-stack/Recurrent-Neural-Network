{
 "cells": [
  {
   "cell_type": "code",
   "execution_count": 42,
   "metadata": {
    "ExecuteTime": {
     "end_time": "2024-07-04T18:00:54.545479Z",
     "start_time": "2024-07-04T18:00:52.986452Z"
    }
   },
   "outputs": [],
   "source": [
    "import numpy as np\n",
    "import pandas as pd\n",
    "from sklearn.preprocessing import StandardScaler, LabelEncoder\n",
    "from sklearn.model_selection import train_test_split\n",
    "import tensorflow as tf\n",
    "from tensorflow.keras.models import Sequential\n",
    "from tensorflow.keras.layers import Dense, Dropout\n",
    "from sklearn.metrics import classification_report, confusion_matrix, roc_auc_score, roc_curve, auc, precision_recall_fscore_support\n",
    "import matplotlib.pyplot as plt "
   ]
  },
  {
   "cell_type": "code",
   "execution_count": 43,
   "metadata": {},
   "outputs": [
    {
     "data": {
      "text/html": [
       "<div>\n",
       "<style scoped>\n",
       "    .dataframe tbody tr th:only-of-type {\n",
       "        vertical-align: middle;\n",
       "    }\n",
       "\n",
       "    .dataframe tbody tr th {\n",
       "        vertical-align: top;\n",
       "    }\n",
       "\n",
       "    .dataframe thead th {\n",
       "        text-align: right;\n",
       "    }\n",
       "</style>\n",
       "<table border=\"1\" class=\"dataframe\">\n",
       "  <thead>\n",
       "    <tr style=\"text-align: right;\">\n",
       "      <th></th>\n",
       "      <th>date_time</th>\n",
       "      <th>host_ip</th>\n",
       "      <th>host_name</th>\n",
       "      <th>host_category</th>\n",
       "      <th>host_status</th>\n",
       "      <th>severity</th>\n",
       "      <th>CPU_load</th>\n",
       "      <th>CPU_Util</th>\n",
       "      <th>Mem_util</th>\n",
       "      <th>In_traffic</th>\n",
       "      <th>Out_traffic</th>\n",
       "    </tr>\n",
       "  </thead>\n",
       "  <tbody>\n",
       "    <tr>\n",
       "      <th>0</th>\n",
       "      <td>2023-01-01 00:00:00</td>\n",
       "      <td>10.20.20.4</td>\n",
       "      <td>DQP_Server1</td>\n",
       "      <td>Server</td>\n",
       "      <td>Device Down</td>\n",
       "      <td>Critical</td>\n",
       "      <td>0</td>\n",
       "      <td>0</td>\n",
       "      <td>0</td>\n",
       "      <td>0</td>\n",
       "      <td>0</td>\n",
       "    </tr>\n",
       "    <tr>\n",
       "      <th>1</th>\n",
       "      <td>2023-01-01 01:00:00</td>\n",
       "      <td>10.20.20.4</td>\n",
       "      <td>DQP_Server1</td>\n",
       "      <td>Server</td>\n",
       "      <td>Device OK</td>\n",
       "      <td>Clear</td>\n",
       "      <td>9</td>\n",
       "      <td>9</td>\n",
       "      <td>9</td>\n",
       "      <td>9</td>\n",
       "      <td>9</td>\n",
       "    </tr>\n",
       "    <tr>\n",
       "      <th>2</th>\n",
       "      <td>2023-01-01 02:00:00</td>\n",
       "      <td>10.20.20.4</td>\n",
       "      <td>DQP_Server1</td>\n",
       "      <td>Server</td>\n",
       "      <td>Device OK</td>\n",
       "      <td>Clear</td>\n",
       "      <td>7</td>\n",
       "      <td>7</td>\n",
       "      <td>7</td>\n",
       "      <td>7</td>\n",
       "      <td>7</td>\n",
       "    </tr>\n",
       "    <tr>\n",
       "      <th>3</th>\n",
       "      <td>2023-01-01 03:00:00</td>\n",
       "      <td>10.20.20.4</td>\n",
       "      <td>DQP_Server1</td>\n",
       "      <td>Server</td>\n",
       "      <td>Device OK</td>\n",
       "      <td>Clear</td>\n",
       "      <td>5</td>\n",
       "      <td>5</td>\n",
       "      <td>5</td>\n",
       "      <td>5</td>\n",
       "      <td>5</td>\n",
       "    </tr>\n",
       "    <tr>\n",
       "      <th>4</th>\n",
       "      <td>2023-01-01 04:00:00</td>\n",
       "      <td>10.20.20.4</td>\n",
       "      <td>DQP_Server1</td>\n",
       "      <td>Server</td>\n",
       "      <td>Device OK</td>\n",
       "      <td>Clear</td>\n",
       "      <td>6</td>\n",
       "      <td>6</td>\n",
       "      <td>6</td>\n",
       "      <td>6</td>\n",
       "      <td>6</td>\n",
       "    </tr>\n",
       "    <tr>\n",
       "      <th>...</th>\n",
       "      <td>...</td>\n",
       "      <td>...</td>\n",
       "      <td>...</td>\n",
       "      <td>...</td>\n",
       "      <td>...</td>\n",
       "      <td>...</td>\n",
       "      <td>...</td>\n",
       "      <td>...</td>\n",
       "      <td>...</td>\n",
       "      <td>...</td>\n",
       "      <td>...</td>\n",
       "    </tr>\n",
       "    <tr>\n",
       "      <th>17515</th>\n",
       "      <td>2023-12-31 19:00:00</td>\n",
       "      <td>10.20.20.1</td>\n",
       "      <td>DQP_Sw</td>\n",
       "      <td>Switch</td>\n",
       "      <td>Device OK</td>\n",
       "      <td>Clear</td>\n",
       "      <td>6</td>\n",
       "      <td>6</td>\n",
       "      <td>6</td>\n",
       "      <td>6</td>\n",
       "      <td>6</td>\n",
       "    </tr>\n",
       "    <tr>\n",
       "      <th>17516</th>\n",
       "      <td>2023-12-31 20:00:00</td>\n",
       "      <td>10.20.20.1</td>\n",
       "      <td>DQP_Sw</td>\n",
       "      <td>Switch</td>\n",
       "      <td>Device Down</td>\n",
       "      <td>Critical</td>\n",
       "      <td>0</td>\n",
       "      <td>0</td>\n",
       "      <td>0</td>\n",
       "      <td>0</td>\n",
       "      <td>0</td>\n",
       "    </tr>\n",
       "    <tr>\n",
       "      <th>17517</th>\n",
       "      <td>2023-12-31 21:00:00</td>\n",
       "      <td>10.20.20.1</td>\n",
       "      <td>DQP_Sw</td>\n",
       "      <td>Switch</td>\n",
       "      <td>Device OK</td>\n",
       "      <td>Clear</td>\n",
       "      <td>6</td>\n",
       "      <td>6</td>\n",
       "      <td>6</td>\n",
       "      <td>6</td>\n",
       "      <td>6</td>\n",
       "    </tr>\n",
       "    <tr>\n",
       "      <th>17518</th>\n",
       "      <td>2023-12-31 22:00:00</td>\n",
       "      <td>10.20.20.1</td>\n",
       "      <td>DQP_Sw</td>\n",
       "      <td>Switch</td>\n",
       "      <td>Device OK</td>\n",
       "      <td>Clear</td>\n",
       "      <td>6</td>\n",
       "      <td>6</td>\n",
       "      <td>6</td>\n",
       "      <td>6</td>\n",
       "      <td>6</td>\n",
       "    </tr>\n",
       "    <tr>\n",
       "      <th>17519</th>\n",
       "      <td>2023-12-31 23:00:00</td>\n",
       "      <td>10.20.20.1</td>\n",
       "      <td>DQP_Sw</td>\n",
       "      <td>Switch</td>\n",
       "      <td>Device OK</td>\n",
       "      <td>Clear</td>\n",
       "      <td>8</td>\n",
       "      <td>8</td>\n",
       "      <td>8</td>\n",
       "      <td>8</td>\n",
       "      <td>8</td>\n",
       "    </tr>\n",
       "  </tbody>\n",
       "</table>\n",
       "<p>17520 rows × 11 columns</p>\n",
       "</div>"
      ],
      "text/plain": [
       "                 date_time     host_ip    host_name host_category  \\\n",
       "0      2023-01-01 00:00:00  10.20.20.4  DQP_Server1        Server   \n",
       "1      2023-01-01 01:00:00  10.20.20.4  DQP_Server1        Server   \n",
       "2      2023-01-01 02:00:00  10.20.20.4  DQP_Server1        Server   \n",
       "3      2023-01-01 03:00:00  10.20.20.4  DQP_Server1        Server   \n",
       "4      2023-01-01 04:00:00  10.20.20.4  DQP_Server1        Server   \n",
       "...                    ...         ...          ...           ...   \n",
       "17515  2023-12-31 19:00:00  10.20.20.1       DQP_Sw        Switch   \n",
       "17516  2023-12-31 20:00:00  10.20.20.1       DQP_Sw        Switch   \n",
       "17517  2023-12-31 21:00:00  10.20.20.1       DQP_Sw        Switch   \n",
       "17518  2023-12-31 22:00:00  10.20.20.1       DQP_Sw        Switch   \n",
       "17519  2023-12-31 23:00:00  10.20.20.1       DQP_Sw        Switch   \n",
       "\n",
       "       host_status  severity  CPU_load  CPU_Util  Mem_util  In_traffic  \\\n",
       "0      Device Down  Critical         0         0         0           0   \n",
       "1        Device OK     Clear         9         9         9           9   \n",
       "2        Device OK     Clear         7         7         7           7   \n",
       "3        Device OK     Clear         5         5         5           5   \n",
       "4        Device OK     Clear         6         6         6           6   \n",
       "...            ...       ...       ...       ...       ...         ...   \n",
       "17515    Device OK     Clear         6         6         6           6   \n",
       "17516  Device Down  Critical         0         0         0           0   \n",
       "17517    Device OK     Clear         6         6         6           6   \n",
       "17518    Device OK     Clear         6         6         6           6   \n",
       "17519    Device OK     Clear         8         8         8           8   \n",
       "\n",
       "       Out_traffic  \n",
       "0                0  \n",
       "1                9  \n",
       "2                7  \n",
       "3                5  \n",
       "4                6  \n",
       "...            ...  \n",
       "17515            6  \n",
       "17516            0  \n",
       "17517            6  \n",
       "17518            6  \n",
       "17519            8  \n",
       "\n",
       "[17520 rows x 11 columns]"
      ]
     },
     "execution_count": 43,
     "metadata": {},
     "output_type": "execute_result"
    }
   ],
   "source": [
    "df = pd.read_csv('dataset/Severity_Clear_10to6.csv') # it is a performance data\n",
    "df "
   ]
  },
  {
   "cell_type": "markdown",
   "metadata": {},
   "source": [
    "10.20.20.4(Server or node) == DQP_Server1(host_name) \n",
    "10.20.20.1(Switch) == DQP_Sw(host_name) <----------- switch(Switch is used to connect multiple devices within the same network.)\n",
    "\n",
    "1.Network Switch \n",
    "2.Core Switch \n",
    "3.Distribution Switch  \n",
    "\n",
    "Performance Metrics: For a server, monitoring metrics like :---> \n",
    "\tCPU_load, \n",
    "\tCPU_Util, \n",
    "\tMem_util,\n",
    "\tNetwork traffic (In_traffic, Out_traffic) is essential to ensure it handles the required load efficiently.\n",
    "\t\n",
    "Monitoring <host_status> and <severity> can help in quickly identifying and addressing security issues.\n",
    "\n",
    "host_category: This categorizes the host based on its function or role within the network. Examples include web server, database server, application server, firewall, or router.\n",
    "\n",
    "severity: This term indicates the importance or urgency of a particular event or issue. Severity levels often include informational, warning, critical, and fatal, helping prioritize responses based on the impact."
   ]
  },
  {
   "cell_type": "code",
   "execution_count": 44,
   "metadata": {},
   "outputs": [
    {
     "name": "stdout",
     "output_type": "stream",
     "text": [
      "<class 'pandas.core.frame.DataFrame'>\n",
      "RangeIndex: 17520 entries, 0 to 17519\n",
      "Data columns (total 11 columns):\n",
      " #   Column         Non-Null Count  Dtype \n",
      "---  ------         --------------  ----- \n",
      " 0   date_time      17520 non-null  object\n",
      " 1   host_ip        17520 non-null  object\n",
      " 2   host_name      17520 non-null  object\n",
      " 3   host_category  17520 non-null  object\n",
      " 4   host_status    17520 non-null  object\n",
      " 5   severity       17520 non-null  object\n",
      " 6   CPU_load       17520 non-null  int64 \n",
      " 7   CPU_Util       17520 non-null  int64 \n",
      " 8   Mem_util       17520 non-null  int64 \n",
      " 9   In_traffic     17520 non-null  int64 \n",
      " 10  Out_traffic    17520 non-null  int64 \n",
      "dtypes: int64(5), object(6)\n",
      "memory usage: 1.5+ MB\n"
     ]
    }
   ],
   "source": [
    "df.info()"
   ]
  },
  {
   "cell_type": "code",
   "execution_count": 45,
   "metadata": {},
   "outputs": [
    {
     "data": {
      "text/plain": [
       "Index(['date_time', 'host_ip', 'host_name', 'host_category', 'host_status',\n",
       "       'severity', 'CPU_load', 'CPU_Util', 'Mem_util', 'In_traffic',\n",
       "       'Out_traffic'],\n",
       "      dtype='object')"
      ]
     },
     "execution_count": 45,
     "metadata": {},
     "output_type": "execute_result"
    }
   ],
   "source": [
    "df.columns"
   ]
  },
  {
   "cell_type": "code",
   "execution_count": 46,
   "metadata": {},
   "outputs": [
    {
     "name": "stderr",
     "output_type": "stream",
     "text": [
      "/tmp/ipykernel_5017/292672301.py:9: SettingWithCopyWarning: \n",
      "A value is trying to be set on a copy of a slice from a DataFrame.\n",
      "Try using .loc[row_indexer,col_indexer] = value instead\n",
      "\n",
      "See the caveats in the documentation: https://pandas.pydata.org/pandas-docs/stable/user_guide/indexing.html#returning-a-view-versus-a-copy\n",
      "  df['date_time'] = pd.to_datetime(df['date_time'])\n",
      "/tmp/ipykernel_5017/292672301.py:19: SettingWithCopyWarning: \n",
      "A value is trying to be set on a copy of a slice from a DataFrame.\n",
      "Try using .loc[row_indexer,col_indexer] = value instead\n",
      "\n",
      "See the caveats in the documentation: https://pandas.pydata.org/pandas-docs/stable/user_guide/indexing.html#returning-a-view-versus-a-copy\n",
      "  df[column] = le.fit_transform(df[column])\n"
     ]
    }
   ],
   "source": [
    "# np.random.seed(42)\n",
    "# tf.random.set_seed(42)\n",
    " \n",
    "# Load your dataset\n",
    "# data = pd.read_csv('Severity_Clear_10to6.csv')\n",
    "df = df[['date_time','CPU_load', 'CPU_Util', 'Mem_util', 'In_traffic', 'Out_traffic', 'host_ip', 'host_status']]\n",
    " \n",
    "# Feature engineering and preprocessing\n",
    "df['date_time'] = pd.to_datetime(df['date_time'])\n",
    "df.set_index('date_time', inplace=True)\n",
    " \n",
    "# Identify categorical columns (assuming they are of type 'object')\n",
    "categorical_columns = df.select_dtypes(include=['object']).columns\n",
    " \n",
    "# Apply label encoding to all categorical columns\n",
    "label_encoders = {}\n",
    "for column in categorical_columns:\n",
    "    le = LabelEncoder()\n",
    "    df[column] = le.fit_transform(df[column])\n",
    "    label_encoders[column] = le\n",
    " \n",
    "# List of features to scale\n",
    "columns_to_scale = ['CPU_load', 'CPU_Util', 'Mem_util', 'In_traffic', 'Out_traffic']\n",
    " \n",
    "# Normalize the df\n",
    "scaler = StandardScaler()\n",
    "scaled_features = scaler.fit_transform(df[columns_to_scale])\n",
    " \n",
    "# Combine scaled numerical features with encoded categorical features\n",
    "encoded_features = df[categorical_columns].values\n",
    "combined_features = np.hstack((scaled_features, encoded_features))"
   ]
  },
  {
   "cell_type": "code",
   "execution_count": 47,
   "metadata": {},
   "outputs": [],
   "source": [
    "# Prepare the data for the CNN model\n",
    "def create_sequences(data, labels, window_size):\n",
    "    sequences = []\n",
    "    for i in range(len(data) - window_size):\n",
    "        sequences.append((data[i:i + window_size], labels[i + window_size]))\n",
    "    return np.array(sequences)"
   ]
  },
  {
   "cell_type": "code",
   "execution_count": 49,
   "metadata": {},
   "outputs": [
    {
     "name": "stderr",
     "output_type": "stream",
     "text": [
      "/tmp/ipykernel_5017/959921812.py:6: VisibleDeprecationWarning: Creating an ndarray from ragged nested sequences (which is a list-or-tuple of lists-or-tuples-or ndarrays with different lengths or shapes) is deprecated. If you meant to do this, you must specify 'dtype=object' when creating the ndarray.\n",
      "  return np.array(sequences)\n"
     ]
    }
   ],
   "source": [
    "window_size = 48\n",
    "sequences = create_sequences(combined_features, df['host_status'].values, window_size)\n",
    "X = np.array([seq[0] for seq in sequences])\n",
    "y = np.array([seq[1] for seq in sequences])\n",
    " \n",
    "# Ensure labels are integers (necessary for sparse_categorical_crossentropy)\n",
    "y = y.astype(int)"
   ]
  },
  {
   "cell_type": "code",
   "execution_count": 23,
   "metadata": {},
   "outputs": [
    {
     "data": {
      "text/plain": [
       "array([1, 1, 1, ..., 1, 1, 1])"
      ]
     },
     "execution_count": 23,
     "metadata": {},
     "output_type": "execute_result"
    }
   ],
   "source": [
    "y"
   ]
  },
  {
   "cell_type": "code",
   "execution_count": 50,
   "metadata": {},
   "outputs": [
    {
     "data": {
      "text/plain": [
       "array([[[-1.00921127, -1.08556812, -1.09529539, ..., -1.09242194,\n",
       "          1.        ,  0.        ],\n",
       "        [-0.53766306, -0.55125553, -0.55082103, ..., -0.55039613,\n",
       "          1.        ,  1.        ],\n",
       "        [-0.64245155, -0.66999166, -0.67181533, ..., -0.67084631,\n",
       "          1.        ,  1.        ],\n",
       "        ...,\n",
       "        [-0.74724004, -0.78872779, -0.79280964, ..., -0.79129649,\n",
       "          1.        ,  1.        ],\n",
       "        [-0.74724004, -0.78872779, -0.79280964, ..., -0.79129649,\n",
       "          1.        ,  1.        ],\n",
       "        [-0.48526881, -0.49188747, -0.49032388, ..., -0.49017104,\n",
       "          1.        ,  1.        ]],\n",
       "\n",
       "       [[-0.53766306, -0.55125553, -0.55082103, ..., -0.55039613,\n",
       "          1.        ,  1.        ],\n",
       "        [-0.64245155, -0.66999166, -0.67181533, ..., -0.67084631,\n",
       "          1.        ,  1.        ],\n",
       "        [-0.74724004, -0.78872779, -0.79280964, ..., -0.79129649,\n",
       "          1.        ,  1.        ],\n",
       "        ...,\n",
       "        [-0.74724004, -0.78872779, -0.79280964, ..., -0.79129649,\n",
       "          1.        ,  1.        ],\n",
       "        [-0.48526881, -0.49188747, -0.49032388, ..., -0.49017104,\n",
       "          1.        ,  1.        ],\n",
       "        [-0.6948458 , -0.72935973, -0.73231248, ..., -0.7310714 ,\n",
       "          1.        ,  1.        ]],\n",
       "\n",
       "       [[-0.64245155, -0.66999166, -0.67181533, ..., -0.67084631,\n",
       "          1.        ,  1.        ],\n",
       "        [-0.74724004, -0.78872779, -0.79280964, ..., -0.79129649,\n",
       "          1.        ,  1.        ],\n",
       "        [-0.6948458 , -0.72935973, -0.73231248, ..., -0.7310714 ,\n",
       "          1.        ,  1.        ],\n",
       "        ...,\n",
       "        [-0.48526881, -0.49188747, -0.49032388, ..., -0.49017104,\n",
       "          1.        ,  1.        ],\n",
       "        [-0.6948458 , -0.72935973, -0.73231248, ..., -0.7310714 ,\n",
       "          1.        ,  1.        ],\n",
       "        [-0.5900573 , -0.6106236 , -0.61131818, ..., -0.61062122,\n",
       "          1.        ,  1.        ]],\n",
       "\n",
       "       ...,\n",
       "\n",
       "       [[-0.64245155, -0.66999166, -0.67181533, ..., -0.67084631,\n",
       "          0.        ,  1.        ],\n",
       "        [-0.74724004, -0.78872779, -0.79280964, ..., -0.79129649,\n",
       "          0.        ,  1.        ],\n",
       "        [-0.64245155, -0.66999166, -0.67181533, ..., -0.67084631,\n",
       "          0.        ,  1.        ],\n",
       "        ...,\n",
       "        [-0.48526881, -0.49188747, -0.49032388, ..., -0.49017104,\n",
       "          0.        ,  1.        ],\n",
       "        [-0.5900573 , -0.6106236 , -0.61131818, ..., -0.61062122,\n",
       "          0.        ,  1.        ],\n",
       "        [-0.74724004, -0.78872779, -0.79280964, ..., -0.79129649,\n",
       "          0.        ,  1.        ]],\n",
       "\n",
       "       [[-0.74724004, -0.78872779, -0.79280964, ..., -0.79129649,\n",
       "          0.        ,  1.        ],\n",
       "        [-0.64245155, -0.66999166, -0.67181533, ..., -0.67084631,\n",
       "          0.        ,  1.        ],\n",
       "        [-0.6948458 , -0.72935973, -0.73231248, ..., -0.7310714 ,\n",
       "          0.        ,  1.        ],\n",
       "        ...,\n",
       "        [-0.5900573 , -0.6106236 , -0.61131818, ..., -0.61062122,\n",
       "          0.        ,  1.        ],\n",
       "        [-0.74724004, -0.78872779, -0.79280964, ..., -0.79129649,\n",
       "          0.        ,  1.        ],\n",
       "        [-0.64245155, -0.66999166, -0.67181533, ..., -0.67084631,\n",
       "          0.        ,  1.        ]],\n",
       "\n",
       "       [[-0.64245155, -0.66999166, -0.67181533, ..., -0.67084631,\n",
       "          0.        ,  1.        ],\n",
       "        [-0.6948458 , -0.72935973, -0.73231248, ..., -0.7310714 ,\n",
       "          0.        ,  1.        ],\n",
       "        [ 1.24374132,  1.4672587 ,  1.50608209, ...,  1.49725692,\n",
       "          0.        ,  1.        ],\n",
       "        ...,\n",
       "        [-0.74724004, -0.78872779, -0.79280964, ..., -0.79129649,\n",
       "          0.        ,  1.        ],\n",
       "        [-0.64245155, -0.66999166, -0.67181533, ..., -0.67084631,\n",
       "          0.        ,  1.        ],\n",
       "        [-0.6948458 , -0.72935973, -0.73231248, ..., -0.7310714 ,\n",
       "          0.        ,  1.        ]]])"
      ]
     },
     "execution_count": 50,
     "metadata": {},
     "output_type": "execute_result"
    }
   ],
   "source": [
    " \n",
    "# Ensure labels are integers (necessary for sparse_categorical_crossentropy)\n",
    "y = y.astype(int)\n",
    "\n",
    "# Split df into training and testing sets\n",
    "X_train, X_test, y_train, y_test = train_test_split(X, y, test_size=0.2, shuffle=False)\n",
    "X_train"
   ]
  },
  {
   "cell_type": "code",
   "execution_count": 51,
   "metadata": {},
   "outputs": [
    {
     "data": {
      "text/plain": [
       "(17472, 48, 7)"
      ]
     },
     "execution_count": 51,
     "metadata": {},
     "output_type": "execute_result"
    }
   ],
   "source": [
    " X.shape"
   ]
  },
  {
   "cell_type": "code",
   "execution_count": 52,
   "metadata": {},
   "outputs": [
    {
     "data": {
      "text/plain": [
       "(48, 7)"
      ]
     },
     "execution_count": 52,
     "metadata": {},
     "output_type": "execute_result"
    }
   ],
   "source": [
    "(window_size, X.shape[-1])"
   ]
  },
  {
   "cell_type": "code",
   "execution_count": 53,
   "metadata": {},
   "outputs": [
    {
     "data": {
      "text/plain": [
       "array([0, 1, 2, 3, 4, 5, 6])"
      ]
     },
     "execution_count": 53,
     "metadata": {},
     "output_type": "execute_result"
    }
   ],
   "source": [
    "num_classes = np.unique(y_train)\n",
    "num_classes"
   ]
  },
  {
   "cell_type": "code",
   "execution_count": 54,
   "metadata": {},
   "outputs": [
    {
     "data": {
      "text/plain": [
       "7"
      ]
     },
     "execution_count": 54,
     "metadata": {},
     "output_type": "execute_result"
    }
   ],
   "source": [
    "len(num_classes)"
   ]
  },
  {
   "cell_type": "code",
   "execution_count": 55,
   "metadata": {},
   "outputs": [
    {
     "data": {
      "text/plain": [
       "48"
      ]
     },
     "execution_count": 55,
     "metadata": {},
     "output_type": "execute_result"
    }
   ],
   "source": [
    "X.shape[1]"
   ]
  },
  {
   "cell_type": "code",
   "execution_count": 56,
   "metadata": {},
   "outputs": [
    {
     "data": {
      "text/plain": [
       "48"
      ]
     },
     "execution_count": 56,
     "metadata": {},
     "output_type": "execute_result"
    }
   ],
   "source": [
    "window_size"
   ]
  },
  {
   "cell_type": "code",
   "execution_count": 57,
   "metadata": {},
   "outputs": [
    {
     "name": "stdout",
     "output_type": "stream",
     "text": [
      "Epoch 1/50\n",
      "350/350 [==============================] - 11s 26ms/step - loss: 1.7711 - accuracy: 0.3340 - val_loss: 1.4844 - val_accuracy: 0.3720\n",
      "Epoch 2/50\n",
      "350/350 [==============================] - 9s 26ms/step - loss: 1.6223 - accuracy: 0.3685 - val_loss: 1.0708 - val_accuracy: 0.6699\n",
      "Epoch 3/50\n",
      "350/350 [==============================] - 9s 26ms/step - loss: 1.5367 - accuracy: 0.5627 - val_loss: 0.6768 - val_accuracy: 0.9077\n",
      "Epoch 4/50\n",
      "350/350 [==============================] - 9s 26ms/step - loss: 1.4580 - accuracy: 0.5727 - val_loss: 0.7074 - val_accuracy: 0.7203\n",
      "Epoch 5/50\n",
      "350/350 [==============================] - 9s 25ms/step - loss: 1.4128 - accuracy: 0.6194 - val_loss: 0.4424 - val_accuracy: 0.8401\n",
      "Epoch 6/50\n",
      "350/350 [==============================] - 9s 25ms/step - loss: 1.4020 - accuracy: 0.6419 - val_loss: 0.5487 - val_accuracy: 0.7961\n",
      "Epoch 7/50\n",
      "350/350 [==============================] - 9s 25ms/step - loss: 1.3705 - accuracy: 0.7169 - val_loss: 0.7672 - val_accuracy: 0.6663\n",
      "Epoch 8/50\n",
      "350/350 [==============================] - 9s 25ms/step - loss: 1.3540 - accuracy: 0.7308 - val_loss: 0.6441 - val_accuracy: 0.7454\n",
      "Epoch 9/50\n",
      "350/350 [==============================] - 9s 25ms/step - loss: 2.6693 - accuracy: 0.7261 - val_loss: 0.3903 - val_accuracy: 0.8473\n",
      "Epoch 10/50\n",
      "350/350 [==============================] - 9s 25ms/step - loss: 1.3395 - accuracy: 0.8057 - val_loss: 0.2906 - val_accuracy: 0.9199\n",
      "Epoch 11/50\n",
      "350/350 [==============================] - 9s 26ms/step - loss: 1.3625 - accuracy: 0.7193 - val_loss: 0.3749 - val_accuracy: 0.8838\n",
      "Epoch 12/50\n",
      "350/350 [==============================] - 9s 25ms/step - loss: 1.3054 - accuracy: 0.8176 - val_loss: 0.2756 - val_accuracy: 0.9295\n",
      "Epoch 13/50\n",
      "350/350 [==============================] - 9s 25ms/step - loss: 1.3156 - accuracy: 0.8435 - val_loss: 0.3140 - val_accuracy: 0.9492\n",
      "Epoch 14/50\n",
      "350/350 [==============================] - 9s 25ms/step - loss: 1.2666 - accuracy: 0.8402 - val_loss: 0.1979 - val_accuracy: 0.9571\n",
      "Epoch 15/50\n",
      "350/350 [==============================] - 9s 25ms/step - loss: 1.2666 - accuracy: 0.8491 - val_loss: 0.2324 - val_accuracy: 0.9503\n",
      "Epoch 16/50\n",
      "350/350 [==============================] - 9s 25ms/step - loss: 1.2695 - accuracy: 0.8467 - val_loss: 0.6141 - val_accuracy: 0.8315\n",
      "Epoch 17/50\n",
      "350/350 [==============================] - 9s 25ms/step - loss: 1.2927 - accuracy: 0.7990 - val_loss: 0.3274 - val_accuracy: 0.9253\n",
      "Epoch 18/50\n",
      "350/350 [==============================] - 9s 25ms/step - loss: 1.2358 - accuracy: 0.8549 - val_loss: 0.3089 - val_accuracy: 0.9210\n",
      "Epoch 19/50\n",
      "350/350 [==============================] - 9s 25ms/step - loss: 1.2405 - accuracy: 0.8686 - val_loss: 0.2839 - val_accuracy: 0.9213\n",
      "Epoch 20/50\n",
      "350/350 [==============================] - 9s 25ms/step - loss: 1.1901 - accuracy: 0.8663 - val_loss: 0.1619 - val_accuracy: 0.9549\n",
      "Epoch 21/50\n",
      "350/350 [==============================] - 9s 25ms/step - loss: 1.3789 - accuracy: 0.8132 - val_loss: 0.2013 - val_accuracy: 0.9492\n",
      "Epoch 22/50\n",
      "350/350 [==============================] - 9s 25ms/step - loss: 1.2726 - accuracy: 0.8585 - val_loss: 0.2420 - val_accuracy: 0.9510\n",
      "Epoch 23/50\n",
      "350/350 [==============================] - 9s 25ms/step - loss: 1.2742 - accuracy: 0.8697 - val_loss: 0.3442 - val_accuracy: 0.9138\n",
      "Epoch 24/50\n",
      "350/350 [==============================] - 9s 25ms/step - loss: 1.2571 - accuracy: 0.8448 - val_loss: 0.2373 - val_accuracy: 0.9156\n",
      "Epoch 25/50\n",
      "350/350 [==============================] - 9s 25ms/step - loss: 1.2204 - accuracy: 0.8683 - val_loss: 0.2173 - val_accuracy: 0.9571\n",
      "Epoch 26/50\n",
      "350/350 [==============================] - 9s 25ms/step - loss: 1.2207 - accuracy: 0.8735 - val_loss: 0.1934 - val_accuracy: 0.9582\n",
      "Epoch 27/50\n",
      "350/350 [==============================] - 9s 25ms/step - loss: 1.1958 - accuracy: 0.8785 - val_loss: 0.1560 - val_accuracy: 0.9592\n",
      "Epoch 28/50\n",
      "350/350 [==============================] - 9s 24ms/step - loss: 1.1804 - accuracy: 0.8901 - val_loss: 0.3198 - val_accuracy: 0.9256\n",
      "Epoch 29/50\n",
      "350/350 [==============================] - 9s 24ms/step - loss: 1.2064 - accuracy: 0.8781 - val_loss: 0.1796 - val_accuracy: 0.9564\n",
      "Epoch 30/50\n",
      "350/350 [==============================] - 9s 25ms/step - loss: 1.1442 - accuracy: 0.8824 - val_loss: 0.1165 - val_accuracy: 0.9592\n",
      "Epoch 31/50\n",
      "350/350 [==============================] - 9s 25ms/step - loss: 1.3083 - accuracy: 0.8716 - val_loss: 0.6894 - val_accuracy: 0.6781\n",
      "Epoch 32/50\n",
      "350/350 [==============================] - 9s 25ms/step - loss: 1.2428 - accuracy: 0.7697 - val_loss: 0.2136 - val_accuracy: 0.9485\n",
      "Epoch 33/50\n",
      "350/350 [==============================] - 9s 25ms/step - loss: 1.2036 - accuracy: 0.8591 - val_loss: 0.2170 - val_accuracy: 0.9589\n",
      "Epoch 34/50\n",
      "350/350 [==============================] - 9s 24ms/step - loss: 1.1742 - accuracy: 0.8912 - val_loss: 0.1780 - val_accuracy: 0.9578\n",
      "Epoch 35/50\n",
      "350/350 [==============================] - 9s 25ms/step - loss: 1.2210 - accuracy: 0.8634 - val_loss: 0.3106 - val_accuracy: 0.9428\n",
      "Epoch 36/50\n",
      "350/350 [==============================] - 9s 24ms/step - loss: 1.1823 - accuracy: 0.8768 - val_loss: 0.2291 - val_accuracy: 0.9571\n",
      "Epoch 37/50\n",
      "350/350 [==============================] - 9s 25ms/step - loss: 1.1923 - accuracy: 0.8500 - val_loss: 0.2166 - val_accuracy: 0.9546\n",
      "Epoch 38/50\n",
      "350/350 [==============================] - 9s 26ms/step - loss: 1.1805 - accuracy: 0.8920 - val_loss: 0.2588 - val_accuracy: 0.9564\n",
      "Epoch 39/50\n",
      "350/350 [==============================] - 9s 25ms/step - loss: 2.2095 - accuracy: 0.8812 - val_loss: 0.3869 - val_accuracy: 0.8927\n",
      "Epoch 40/50\n",
      "350/350 [==============================] - 9s 25ms/step - loss: 1.2717 - accuracy: 0.8300 - val_loss: 0.3771 - val_accuracy: 0.9174\n"
     ]
    }
   ],
   "source": [
    "from tensorflow.keras.layers import LSTM, Dropout, Dense\n",
    "from tensorflow.keras.models import Sequential\n",
    "from tensorflow.keras.callbacks import EarlyStopping\n",
    "from sklearn.utils.class_weight import compute_class_weight\n",
    "import numpy as np\n",
    "\n",
    "# Determine the number of classes\n",
    "num_classes = len(np.unique(y_train))\n",
    "\n",
    "# Compute class weights\n",
    "class_weights = compute_class_weight(\n",
    "    class_weight='balanced',\n",
    "    classes=np.unique(y_train),\n",
    "    y=y_train\n",
    ")\n",
    "\n",
    "# Convert class weights to a dictionary format required by Keras\n",
    "class_weights = {i: class_weights[i] for i in range(len(class_weights))}\n",
    "\n",
    "# Define the LSTM model for multiclass classification\n",
    "model_lstm = Sequential([\n",
    "    LSTM(50, activation='relu', input_shape=(window_size, X.shape[-1]), return_sequences=True),\n",
    "    Dropout(0.2),\n",
    "    LSTM(50, activation='relu'),\n",
    "    Dropout(0.2),\n",
    "    Dense(50, activation='relu'),\n",
    "    Dropout(0.2),\n",
    "    Dense(num_classes, activation='softmax')\n",
    "])\n",
    "\n",
    "model_lstm.compile(\n",
    "    optimizer='adam',\n",
    "    loss='sparse_categorical_crossentropy',\n",
    "    metrics=['accuracy']\n",
    ")\n",
    "\n",
    "# Define EarlyStopping callback\n",
    "early_stopping = EarlyStopping(\n",
    "    monitor='val_loss',  # metric to monitor\n",
    "    patience=10,         # number of epochs with no improvement to stop training\n",
    "    restore_best_weights=True  # restore the weights of the best epoch\n",
    ")\n",
    "\n",
    "# Train the LSTM model with class weights and EarlyStopping callback\n",
    "history_lstm = model_lstm.fit(\n",
    "    X_train, y_train, epochs=50, batch_size=32, validation_split=0.2, callbacks=[early_stopping], class_weight=class_weights\n",
    ")\n"
   ]
  },
  {
   "cell_type": "code",
   "execution_count": 58,
   "metadata": {},
   "outputs": [
    {
     "name": "stdout",
     "output_type": "stream",
     "text": [
      "110/110 [==============================] - 1s 7ms/step - loss: 0.1222 - accuracy: 0.9625\n",
      "loss : 0.12217999994754791\n",
      "accuracy : 0.9625178575515747\n"
     ]
    }
   ],
   "source": [
    "loss,accuracy = model_lstm.evaluate(X_test,y_test)# it returns the loss and accuracy\n",
    "print(f'loss : {loss}',f'accuracy : {accuracy}',sep='\\n')"
   ]
  },
  {
   "cell_type": "code",
   "execution_count": 59,
   "metadata": {},
   "outputs": [
    {
     "data": {
      "text/plain": [
       "(3495, 48, 7)"
      ]
     },
     "execution_count": 59,
     "metadata": {},
     "output_type": "execute_result"
    }
   ],
   "source": [
    "X_test.shape"
   ]
  },
  {
   "cell_type": "code",
   "execution_count": 60,
   "metadata": {},
   "outputs": [
    {
     "name": "stdout",
     "output_type": "stream",
     "text": [
      "110/110 [==============================] - 1s 7ms/step\n",
      "y_pred : [1 1 1 ... 1 1 1]\n",
      "accuracy : 0.9625178826895565\n"
     ]
    }
   ],
   "source": [
    "from sklearn.metrics import accuracy_score \n",
    "y_pred_prob = model_lstm.predict(X_test) # it returns the probability of the predicted classes\n",
    "y_pred = np.argmax(y_pred_prob,axis=1) # it returns the index of the maximum value \n",
    "accu = accuracy_score(y_test,y_pred)\n",
    "print(f'y_pred : {y_pred}',f'accuracy : {accu}',sep='\\n')"
   ]
  },
  {
   "cell_type": "code",
   "execution_count": 61,
   "metadata": {},
   "outputs": [
    {
     "data": {
      "text/plain": [
       "array([[ 146,    0,    0,    0,    0,    0,    0],\n",
       "       [   0, 3201,    0,    1,    1,    0,    0],\n",
       "       [   0,    0,    0,  100,    0,    0,    4],\n",
       "       [   0,    0,    0,    7,    0,    0,    0],\n",
       "       [   0,    0,    0,   15,    0,    0,    0],\n",
       "       [   0,    0,    0,    5,    0,    0,    1],\n",
       "       [   0,    0,    0,    4,    0,    0,   10]])"
      ]
     },
     "execution_count": 61,
     "metadata": {},
     "output_type": "execute_result"
    }
   ],
   "source": [
    "confusion_matrix(y_test, y_pred)"
   ]
  },
  {
   "cell_type": "code",
   "execution_count": 62,
   "metadata": {},
   "outputs": [
    {
     "name": "stdout",
     "output_type": "stream",
     "text": [
      "              precision    recall  f1-score   support\n",
      "\n",
      "           0       1.00      1.00      1.00       146\n",
      "           1       1.00      1.00      1.00      3203\n",
      "           2       0.00      0.00      0.00       104\n",
      "           3       0.05      1.00      0.10         7\n",
      "           4       0.00      0.00      0.00        15\n",
      "           5       0.00      0.00      0.00         6\n",
      "           6       0.67      0.71      0.69        14\n",
      "\n",
      "    accuracy                           0.96      3495\n",
      "   macro avg       0.39      0.53      0.40      3495\n",
      "weighted avg       0.96      0.96      0.96      3495\n",
      "\n"
     ]
    },
    {
     "name": "stderr",
     "output_type": "stream",
     "text": [
      "/home/echelon/anaconda3/lib/python3.9/site-packages/sklearn/metrics/_classification.py:1318: UndefinedMetricWarning: Precision and F-score are ill-defined and being set to 0.0 in labels with no predicted samples. Use `zero_division` parameter to control this behavior.\n",
      "  _warn_prf(average, modifier, msg_start, len(result))\n",
      "/home/echelon/anaconda3/lib/python3.9/site-packages/sklearn/metrics/_classification.py:1318: UndefinedMetricWarning: Precision and F-score are ill-defined and being set to 0.0 in labels with no predicted samples. Use `zero_division` parameter to control this behavior.\n",
      "  _warn_prf(average, modifier, msg_start, len(result))\n",
      "/home/echelon/anaconda3/lib/python3.9/site-packages/sklearn/metrics/_classification.py:1318: UndefinedMetricWarning: Precision and F-score are ill-defined and being set to 0.0 in labels with no predicted samples. Use `zero_division` parameter to control this behavior.\n",
      "  _warn_prf(average, modifier, msg_start, len(result))\n"
     ]
    }
   ],
   "source": [
    "print(classification_report(y_test, y_pred))"
   ]
  },
  {
   "cell_type": "markdown",
   "metadata": {},
   "source": [
    "- ***Why we choose the roc(Receiver Operating Characteristic) curve***\n",
    "- to choose the threshold value. like 0.5 ,0.75 or any other value. \n"
   ]
  },
  {
   "cell_type": "code",
   "execution_count": 63,
   "metadata": {},
   "outputs": [
    {
     "data": {
      "text/plain": [
       "0.7775272337985487"
      ]
     },
     "execution_count": 63,
     "metadata": {},
     "output_type": "execute_result"
    }
   ],
   "source": [
    "'''This score helps in understanding how well the model distinguishes between different classes.\n",
    "multi_class='ovo': Stands for \"one-vs-one\". This parameter is used when dealing with multi-class \n",
    "classification problems. The ROC AUC(Area Under the Curve) score is computed for each pair of classes, treating each \n",
    "pair as a binary classification problem. The final score is the average of all these pairwise \n",
    "scores.\n",
    "\n",
    "average='macro': This parameter specifies how to average the scores for multi-class classification.\n",
    "The 'macro' averaging computes the score for each class independently and then takes the average.\n",
    "It does not take class imbalance into account, treating all classes equally.'''\n",
    "\n",
    "roc_auc_lstm = roc_auc_score(y_test, y_pred_prob, multi_class='ovo', average='macro') # ye ek matra esa score hai jo kabhi change nhi hota hai bhale hi threshold ki value 0.5 se idhar-udhar kroge to confusion-matrix change ho jayega jisse accuracy score change ho jaayega but ye change nhi hota hai \n",
    "roc_auc_lstm\n",
    " "
   ]
  },
  {
   "cell_type": "code",
   "execution_count": 64,
   "metadata": {},
   "outputs": [
    {
     "name": "stdout",
     "output_type": "stream",
     "text": [
      "Sensitivity: 0.5305230428106303\n",
      "F1 Score: 0.3985803274378186\n"
     ]
    },
    {
     "name": "stderr",
     "output_type": "stream",
     "text": [
      "/home/echelon/anaconda3/lib/python3.9/site-packages/sklearn/metrics/_classification.py:1318: UndefinedMetricWarning: Precision and F-score are ill-defined and being set to 0.0 in labels with no predicted samples. Use `zero_division` parameter to control this behavior.\n",
      "  _warn_prf(average, modifier, msg_start, len(result))\n"
     ]
    }
   ],
   "source": [
    "precision_lstm, recall_lstm, f1_lstm, _ = precision_recall_fscore_support(y_test, y_pred, average='macro')\n",
    "sensitivity_lstm = recall_lstm\n",
    " \n",
    "print(f\"Sensitivity: {sensitivity_lstm}\")\n",
    "print(f\"F1 Score: {f1_lstm}\")"
   ]
  },
  {
   "cell_type": "code",
   "execution_count": 65,
   "metadata": {},
   "outputs": [
    {
     "data": {
      "image/png": "[encoded data removed]",
      "text/plain": [
       "<Figure size 640x480 with 1 Axes>"
      ]
     },
     "metadata": {},
     "output_type": "display_data"
    },
    {
     "data": {
      "image/png": "[encoded data removed]",
      "text/plain": [
       "<Figure size 640x480 with 1 Axes>"
      ]
     },
     "metadata": {},
     "output_type": "display_data"
    },
    {
     "data": {
      "image/png": "[encoded data removed]",
      "text/plain": [
       "<Figure size 640x480 with 1 Axes>"
      ]
     },
     "metadata": {},
     "output_type": "display_data"
    }
   ],
   "source": [
    "# Plot ROC Curve for each class\n",
    "fpr_lstm = {}\n",
    "tpr_lstm = {}\n",
    "roc_auc_lstm = {}\n",
    "for i in range(num_classes):\n",
    "    fpr_lstm[i], tpr_lstm[i], _ = roc_curve(y_test, y_pred_prob[:, i], pos_label=i)\n",
    "    roc_auc_lstm[i] = auc(fpr_lstm[i], tpr_lstm[i])\n",
    " \n",
    "plt.figure()\n",
    "for i in range(num_classes):\n",
    "    plt.plot(fpr_lstm[i], tpr_lstm[i], label=f'ROC curve (area = {roc_auc_lstm[i]:0.2f}) for class {i}')\n",
    "plt.plot([0, 1], [0, 1], 'k--')\n",
    "plt.xlim([0.0, 1.0])\n",
    "plt.ylim([0.0, 1.05])\n",
    "plt.xlabel('False Positive Rate')\n",
    "plt.ylabel('True Positive Rate')\n",
    "plt.title('Receiver Operating Characteristic (ROC) Curve - LSTM')\n",
    "plt.legend(loc='lower right')\n",
    "plt.show()\n",
    " \n",
    "# Plot loss and accuracy over epochs\n",
    "plt.figure()\n",
    "plt.plot(history_lstm.history['loss'], label='train_loss')\n",
    "plt.plot(history_lstm.history['val_loss'], label='val_loss')\n",
    "plt.xlabel('Epochs')\n",
    "plt.ylabel('Loss')\n",
    "plt.title('Loss over epochs - LSTM')\n",
    "plt.legend()\n",
    "plt.show()\n",
    " \n",
    "plt.figure()\n",
    "plt.plot(history_lstm.history['accuracy'], label='train_accuracy')\n",
    "plt.plot(history_lstm.history['val_accuracy'], label='val_accuracy')\n",
    "plt.xlabel('Epochs')\n",
    "plt.ylabel('Accuracy')\n",
    "plt.title('Accuracy over epochs - LSTM')\n",
    "plt.legend()\n",
    "plt.show()"
   ]
  },
  {
   "cell_type": "code",
   "execution_count": 67,
   "metadata": {},
   "outputs": [
    {
     "ename": "InvalidIndexError",
     "evalue": "(None, slice(None, None, None), slice(None, None, None))",
     "output_type": "error",
     "traceback": [
      "\u001b[0;31m---------------------------------------------------------------------------\u001b[0m",
      "\u001b[0;31mTypeError\u001b[0m                                 Traceback (most recent call last)",
      "\u001b[0;32m~/anaconda3/lib/python3.9/site-packages/pandas/core/indexes/base.py\u001b[0m in \u001b[0;36mget_loc\u001b[0;34m(self, key, method, tolerance)\u001b[0m\n\u001b[1;32m   3628\u001b[0m             \u001b[0;32mtry\u001b[0m\u001b[0;34m:\u001b[0m\u001b[0;34m\u001b[0m\u001b[0;34m\u001b[0m\u001b[0m\n\u001b[0;32m-> 3629\u001b[0;31m                 \u001b[0;32mreturn\u001b[0m \u001b[0mself\u001b[0m\u001b[0;34m.\u001b[0m\u001b[0m_engine\u001b[0m\u001b[0;34m.\u001b[0m\u001b[0mget_loc\u001b[0m\u001b[0;34m(\u001b[0m\u001b[0mcasted_key\u001b[0m\u001b[0;34m)\u001b[0m\u001b[0;34m\u001b[0m\u001b[0;34m\u001b[0m\u001b[0m\n\u001b[0m\u001b[1;32m   3630\u001b[0m             \u001b[0;32mexcept\u001b[0m \u001b[0mKeyError\u001b[0m \u001b[0;32mas\u001b[0m \u001b[0merr\u001b[0m\u001b[0;34m:\u001b[0m\u001b[0;34m\u001b[0m\u001b[0;34m\u001b[0m\u001b[0m\n",
      "\u001b[0;32m~/anaconda3/lib/python3.9/site-packages/pandas/_libs/index.pyx\u001b[0m in \u001b[0;36mpandas._libs.index.IndexEngine.get_loc\u001b[0;34m()\u001b[0m\n",
      "\u001b[0;32m~/anaconda3/lib/python3.9/site-packages/pandas/_libs/index.pyx\u001b[0m in \u001b[0;36mpandas._libs.index.IndexEngine.get_loc\u001b[0;34m()\u001b[0m\n",
      "\u001b[0;31mTypeError\u001b[0m: '(None, slice(None, None, None), slice(None, None, None))' is an invalid key",
      "\nDuring handling of the above exception, another exception occurred:\n",
      "\u001b[0;31mInvalidIndexError\u001b[0m                         Traceback (most recent call last)",
      "\u001b[0;32m/tmp/ipykernel_5017/1369311747.py\u001b[0m in \u001b[0;36m<module>\u001b[0;34m\u001b[0m\n\u001b[1;32m     10\u001b[0m \u001b[0;32mfor\u001b[0m \u001b[0m_\u001b[0m \u001b[0;32min\u001b[0m \u001b[0mrange\u001b[0m\u001b[0;34m(\u001b[0m\u001b[0mnum_predictions\u001b[0m\u001b[0;34m)\u001b[0m\u001b[0;34m:\u001b[0m\u001b[0;34m\u001b[0m\u001b[0;34m\u001b[0m\u001b[0m\n\u001b[1;32m     11\u001b[0m     \u001b[0;31m# Predict next value\u001b[0m\u001b[0;34m\u001b[0m\u001b[0;34m\u001b[0m\u001b[0m\n\u001b[0;32m---> 12\u001b[0;31m     \u001b[0mprediction_lstm\u001b[0m \u001b[0;34m=\u001b[0m \u001b[0mmodel_lstm\u001b[0m\u001b[0;34m.\u001b[0m\u001b[0mpredict\u001b[0m\u001b[0;34m(\u001b[0m\u001b[0mlast_window\u001b[0m\u001b[0;34m[\u001b[0m\u001b[0mnp\u001b[0m\u001b[0;34m.\u001b[0m\u001b[0mnewaxis\u001b[0m\u001b[0;34m,\u001b[0m \u001b[0;34m:\u001b[0m\u001b[0;34m,\u001b[0m \u001b[0;34m:\u001b[0m\u001b[0;34m]\u001b[0m\u001b[0;34m)\u001b[0m\u001b[0;34m\u001b[0m\u001b[0;34m\u001b[0m\u001b[0m\n\u001b[0m\u001b[1;32m     13\u001b[0m     \u001b[0mpredicted_class_lstm\u001b[0m \u001b[0;34m=\u001b[0m \u001b[0mnp\u001b[0m\u001b[0;34m.\u001b[0m\u001b[0margmax\u001b[0m\u001b[0;34m(\u001b[0m\u001b[0mprediction_lstm\u001b[0m\u001b[0;34m,\u001b[0m \u001b[0maxis\u001b[0m\u001b[0;34m=\u001b[0m\u001b[0;36m1\u001b[0m\u001b[0;34m)\u001b[0m  \u001b[0;31m# Get predicted class\u001b[0m\u001b[0;34m\u001b[0m\u001b[0;34m\u001b[0m\u001b[0m\n\u001b[1;32m     14\u001b[0m     \u001b[0mpredictions_lstm\u001b[0m\u001b[0;34m.\u001b[0m\u001b[0mappend\u001b[0m\u001b[0;34m(\u001b[0m\u001b[0mpredicted_class_lstm\u001b[0m\u001b[0;34m[\u001b[0m\u001b[0;36m0\u001b[0m\u001b[0;34m]\u001b[0m\u001b[0;34m)\u001b[0m\u001b[0;34m\u001b[0m\u001b[0;34m\u001b[0m\u001b[0m\n",
      "\u001b[0;32m~/anaconda3/lib/python3.9/site-packages/pandas/core/frame.py\u001b[0m in \u001b[0;36m__getitem__\u001b[0;34m(self, key)\u001b[0m\n\u001b[1;32m   3503\u001b[0m             \u001b[0;32mif\u001b[0m \u001b[0mself\u001b[0m\u001b[0;34m.\u001b[0m\u001b[0mcolumns\u001b[0m\u001b[0;34m.\u001b[0m\u001b[0mnlevels\u001b[0m \u001b[0;34m>\u001b[0m \u001b[0;36m1\u001b[0m\u001b[0;34m:\u001b[0m\u001b[0;34m\u001b[0m\u001b[0;34m\u001b[0m\u001b[0m\n\u001b[1;32m   3504\u001b[0m                 \u001b[0;32mreturn\u001b[0m \u001b[0mself\u001b[0m\u001b[0;34m.\u001b[0m\u001b[0m_getitem_multilevel\u001b[0m\u001b[0;34m(\u001b[0m\u001b[0mkey\u001b[0m\u001b[0;34m)\u001b[0m\u001b[0;34m\u001b[0m\u001b[0;34m\u001b[0m\u001b[0m\n\u001b[0;32m-> 3505\u001b[0;31m             \u001b[0mindexer\u001b[0m \u001b[0;34m=\u001b[0m \u001b[0mself\u001b[0m\u001b[0;34m.\u001b[0m\u001b[0mcolumns\u001b[0m\u001b[0;34m.\u001b[0m\u001b[0mget_loc\u001b[0m\u001b[0;34m(\u001b[0m\u001b[0mkey\u001b[0m\u001b[0;34m)\u001b[0m\u001b[0;34m\u001b[0m\u001b[0;34m\u001b[0m\u001b[0m\n\u001b[0m\u001b[1;32m   3506\u001b[0m             \u001b[0;32mif\u001b[0m \u001b[0mis_integer\u001b[0m\u001b[0;34m(\u001b[0m\u001b[0mindexer\u001b[0m\u001b[0;34m)\u001b[0m\u001b[0;34m:\u001b[0m\u001b[0;34m\u001b[0m\u001b[0;34m\u001b[0m\u001b[0m\n\u001b[1;32m   3507\u001b[0m                 \u001b[0mindexer\u001b[0m \u001b[0;34m=\u001b[0m \u001b[0;34m[\u001b[0m\u001b[0mindexer\u001b[0m\u001b[0;34m]\u001b[0m\u001b[0;34m\u001b[0m\u001b[0;34m\u001b[0m\u001b[0m\n",
      "\u001b[0;32m~/anaconda3/lib/python3.9/site-packages/pandas/core/indexes/base.py\u001b[0m in \u001b[0;36mget_loc\u001b[0;34m(self, key, method, tolerance)\u001b[0m\n\u001b[1;32m   3634\u001b[0m                 \u001b[0;31m#  InvalidIndexError. Otherwise we fall through and re-raise\u001b[0m\u001b[0;34m\u001b[0m\u001b[0;34m\u001b[0m\u001b[0m\n\u001b[1;32m   3635\u001b[0m                 \u001b[0;31m#  the TypeError.\u001b[0m\u001b[0;34m\u001b[0m\u001b[0;34m\u001b[0m\u001b[0m\n\u001b[0;32m-> 3636\u001b[0;31m                 \u001b[0mself\u001b[0m\u001b[0;34m.\u001b[0m\u001b[0m_check_indexing_error\u001b[0m\u001b[0;34m(\u001b[0m\u001b[0mkey\u001b[0m\u001b[0;34m)\u001b[0m\u001b[0;34m\u001b[0m\u001b[0;34m\u001b[0m\u001b[0m\n\u001b[0m\u001b[1;32m   3637\u001b[0m                 \u001b[0;32mraise\u001b[0m\u001b[0;34m\u001b[0m\u001b[0;34m\u001b[0m\u001b[0m\n\u001b[1;32m   3638\u001b[0m \u001b[0;34m\u001b[0m\u001b[0m\n",
      "\u001b[0;32m~/anaconda3/lib/python3.9/site-packages/pandas/core/indexes/base.py\u001b[0m in \u001b[0;36m_check_indexing_error\u001b[0;34m(self, key)\u001b[0m\n\u001b[1;32m   5649\u001b[0m             \u001b[0;31m# if key is not a scalar, directly raise an error (the code below\u001b[0m\u001b[0;34m\u001b[0m\u001b[0;34m\u001b[0m\u001b[0m\n\u001b[1;32m   5650\u001b[0m             \u001b[0;31m# would convert to numpy arrays and raise later any way) - GH29926\u001b[0m\u001b[0;34m\u001b[0m\u001b[0;34m\u001b[0m\u001b[0m\n\u001b[0;32m-> 5651\u001b[0;31m             \u001b[0;32mraise\u001b[0m \u001b[0mInvalidIndexError\u001b[0m\u001b[0;34m(\u001b[0m\u001b[0mkey\u001b[0m\u001b[0;34m)\u001b[0m\u001b[0;34m\u001b[0m\u001b[0;34m\u001b[0m\u001b[0m\n\u001b[0m\u001b[1;32m   5652\u001b[0m \u001b[0;34m\u001b[0m\u001b[0m\n\u001b[1;32m   5653\u001b[0m     \u001b[0;34m@\u001b[0m\u001b[0mcache_readonly\u001b[0m\u001b[0;34m\u001b[0m\u001b[0;34m\u001b[0m\u001b[0m\n",
      "\u001b[0;31mInvalidIndexError\u001b[0m: (None, slice(None, None, None), slice(None, None, None))"
     ]
    }
   ],
   "source": [
    "\n",
    "model_lstm.save('lstm_model.h5')\n",
    " \n",
    "# Generate predictions for the next 48 time steps\n",
    "num_predictions = 48\n",
    "last_window = df[-window_size:]  # Get the last 'window_size' rows\n",
    " \n",
    "predictions_lstm = []\n",
    "predicted_features_lstm = []\n",
    " \n",
    "for _ in range(num_predictions):\n",
    "    # Predict next value\n",
    "    prediction_lstm = model_lstm.predict(last_window[np.newaxis, :, :])\n",
    "    predicted_class_lstm = np.argmax(prediction_lstm, axis=1)  # Get predicted class\n",
    "    predictions_lstm.append(predicted_class_lstm[0])\n",
    "    # Approximate new feature values for the new time step\n",
    "    new_feature_row_lstm = np.random.randn(len(columns_to_scale))  # Assuming normal distribution for simplicity\n",
    "    encoded_categorical_values = np.random.randint(0, np.max(encoded_features, axis=0), size=encoded_features.shape[1])\n",
    "    new_combined_features = np.hstack((new_feature_row_lstm, encoded_categorical_values))\n",
    "    predicted_features_lstm.append(new_combined_features)\n",
    "    # Update the window with the new prediction and feature values\n",
    "    last_window = np.vstack([last_window[1:], new_combined_features])  # Slide window\n",
    " \n",
    "# Convert predictions back to original labels\n",
    "predicted_labels_lstm = label_encoders['host_status'].inverse_transform(predictions_lstm)\n",
    " \n",
    "# Separate the scaled numerical and encoded categorical features\n",
    "predicted_features_lstm = np.array(predicted_features_lstm)\n",
    "predicted_numerical_features_lstm = predicted_features_lstm[:, :len(columns_to_scale)]\n",
    "predicted_categorical_features_lstm = predicted_features_lstm[:, len(columns_to_scale):]\n",
    " \n",
    "# Convert scaled predicted numerical features back to original scale\n",
    "predicted_numerical_original_scale_lstm = scaler.inverse_transform(predicted_numerical_features_lstm)\n",
    " \n",
    "# Create a DataFrame for the next 48 time steps\n",
    "future_dates_lstm = pd.date_range(start=df.index[-1] + pd.Timedelta(hours=1), periods=num_predictions, freq='H')\n",
    "predicted_df_lstm = pd.DataFrame(predicted_numerical_original_scale_lstm, columns=columns_to_scale, index=future_dates_lstm)\n",
    " \n",
    "# Revert the label-encoded categorical columns back to their original form\n",
    "for i, column in enumerate(categorical_columns):\n",
    "    predicted_df_lstm[column] = label_encoders[column].inverse_transform(predicted_categorical_features_lstm[:, i].astype(int))\n",
    " \n",
    "predicted_df_lstm['host_status'] = predicted_labels_lstm\n",
    " \n",
    "# Display the final DataFrame\n",
    "predicted_df_lstm[['CPU_load', 'CPU_Util', 'Mem_util', 'In_traffic', 'Out_traffic', 'host_ip', 'host_status']]"
   ]
  },
  {
   "cell_type": "code",
   "execution_count": 77,
   "metadata": {},
   "outputs": [
    {
     "name": "stdout",
     "output_type": "stream",
     "text": [
      "1/1 [==============================] - 0s 27ms/step\n",
      "1/1 [==============================] - 0s 26ms/step\n",
      "1/1 [==============================] - 0s 20ms/step\n",
      "1/1 [==============================] - 0s 21ms/step\n",
      "1/1 [==============================] - 0s 20ms/step\n",
      "1/1 [==============================] - 0s 22ms/step\n",
      "1/1 [==============================] - 0s 20ms/step\n",
      "1/1 [==============================] - 0s 20ms/step\n",
      "1/1 [==============================] - 0s 19ms/step\n",
      "1/1 [==============================] - 0s 20ms/step\n",
      "1/1 [==============================] - 0s 20ms/step\n",
      "1/1 [==============================] - 0s 20ms/step\n",
      "1/1 [==============================] - 0s 20ms/step\n",
      "1/1 [==============================] - 0s 20ms/step\n",
      "1/1 [==============================] - 0s 21ms/step\n",
      "1/1 [==============================] - 0s 20ms/step\n",
      "1/1 [==============================] - 0s 20ms/step\n",
      "1/1 [==============================] - 0s 19ms/step\n",
      "1/1 [==============================] - 0s 19ms/step\n",
      "1/1 [==============================] - 0s 19ms/step\n",
      "1/1 [==============================] - 0s 19ms/step\n",
      "1/1 [==============================] - 0s 20ms/step\n",
      "1/1 [==============================] - 0s 20ms/step\n",
      "1/1 [==============================] - 0s 19ms/step\n",
      "1/1 [==============================] - 0s 21ms/step\n",
      "1/1 [==============================] - 0s 20ms/step\n",
      "1/1 [==============================] - 0s 20ms/step\n",
      "1/1 [==============================] - 0s 20ms/step\n",
      "1/1 [==============================] - 0s 20ms/step\n",
      "1/1 [==============================] - 0s 20ms/step\n",
      "1/1 [==============================] - 0s 19ms/step\n",
      "1/1 [==============================] - 0s 19ms/step\n",
      "1/1 [==============================] - 0s 19ms/step\n",
      "1/1 [==============================] - 0s 19ms/step\n",
      "1/1 [==============================] - 0s 20ms/step\n",
      "1/1 [==============================] - 0s 20ms/step\n",
      "1/1 [==============================] - 0s 21ms/step\n",
      "1/1 [==============================] - 0s 35ms/step\n",
      "1/1 [==============================] - 0s 19ms/step\n",
      "1/1 [==============================] - 0s 20ms/step\n",
      "1/1 [==============================] - 0s 19ms/step\n",
      "1/1 [==============================] - 0s 20ms/step\n",
      "1/1 [==============================] - 0s 20ms/step\n",
      "1/1 [==============================] - 0s 25ms/step\n",
      "1/1 [==============================] - 0s 22ms/step\n",
      "1/1 [==============================] - 0s 21ms/step\n",
      "1/1 [==============================] - 0s 22ms/step\n",
      "1/1 [==============================] - 0s 22ms/step\n",
      "1/1 [==============================] - 0s 20ms/step\n",
      "1/1 [==============================] - 0s 20ms/step\n",
      "1/1 [==============================] - 0s 19ms/step\n",
      "1/1 [==============================] - 0s 20ms/step\n",
      "1/1 [==============================] - 0s 20ms/step\n",
      "1/1 [==============================] - 0s 21ms/step\n",
      "1/1 [==============================] - 0s 22ms/step\n",
      "1/1 [==============================] - 0s 21ms/step\n",
      "1/1 [==============================] - 0s 21ms/step\n",
      "1/1 [==============================] - 0s 20ms/step\n",
      "1/1 [==============================] - 0s 21ms/step\n",
      "1/1 [==============================] - 0s 21ms/step\n",
      "1/1 [==============================] - 0s 21ms/step\n",
      "1/1 [==============================] - 0s 21ms/step\n",
      "1/1 [==============================] - 0s 21ms/step\n",
      "1/1 [==============================] - 0s 20ms/step\n",
      "1/1 [==============================] - 0s 20ms/step\n",
      "1/1 [==============================] - 0s 20ms/step\n",
      "1/1 [==============================] - 0s 19ms/step\n",
      "1/1 [==============================] - 0s 19ms/step\n",
      "1/1 [==============================] - 0s 39ms/step\n",
      "1/1 [==============================] - 0s 21ms/step\n",
      "1/1 [==============================] - 0s 20ms/step\n",
      "1/1 [==============================] - 0s 20ms/step\n",
      "1/1 [==============================] - 0s 21ms/step\n",
      "1/1 [==============================] - 0s 21ms/step\n",
      "1/1 [==============================] - 0s 20ms/step\n",
      "1/1 [==============================] - 0s 19ms/step\n",
      "1/1 [==============================] - 0s 20ms/step\n",
      "1/1 [==============================] - 0s 19ms/step\n",
      "1/1 [==============================] - 0s 19ms/step\n",
      "1/1 [==============================] - 0s 20ms/step\n",
      "1/1 [==============================] - 0s 20ms/step\n",
      "1/1 [==============================] - 0s 19ms/step\n",
      "1/1 [==============================] - 0s 20ms/step\n",
      "1/1 [==============================] - 0s 20ms/step\n",
      "1/1 [==============================] - 0s 20ms/step\n",
      "1/1 [==============================] - 0s 19ms/step\n",
      "1/1 [==============================] - 0s 19ms/step\n",
      "1/1 [==============================] - 0s 19ms/step\n",
      "1/1 [==============================] - 0s 19ms/step\n",
      "1/1 [==============================] - 0s 20ms/step\n",
      "1/1 [==============================] - 0s 20ms/step\n",
      "1/1 [==============================] - 0s 22ms/step\n",
      "1/1 [==============================] - 0s 20ms/step\n",
      "1/1 [==============================] - 0s 19ms/step\n",
      "1/1 [==============================] - 0s 19ms/step\n",
      "1/1 [==============================] - 0s 19ms/step\n",
      "1/1 [==============================] - 0s 20ms/step\n",
      "1/1 [==============================] - 0s 21ms/step\n",
      "1/1 [==============================] - 0s 19ms/step\n",
      "1/1 [==============================] - 0s 21ms/step\n",
      "1/1 [==============================] - 0s 20ms/step\n",
      "1/1 [==============================] - 0s 31ms/step\n",
      "1/1 [==============================] - 0s 19ms/step\n",
      "1/1 [==============================] - 0s 20ms/step\n",
      "1/1 [==============================] - 0s 20ms/step\n",
      "1/1 [==============================] - 0s 19ms/step\n",
      "1/1 [==============================] - 0s 19ms/step\n",
      "1/1 [==============================] - 0s 21ms/step\n",
      "1/1 [==============================] - 0s 24ms/step\n",
      "1/1 [==============================] - 0s 19ms/step\n",
      "1/1 [==============================] - 0s 20ms/step\n",
      "1/1 [==============================] - 0s 19ms/step\n",
      "1/1 [==============================] - 0s 20ms/step\n",
      "1/1 [==============================] - 0s 26ms/step\n",
      "1/1 [==============================] - 0s 23ms/step\n",
      "1/1 [==============================] - 0s 23ms/step\n",
      "1/1 [==============================] - 0s 26ms/step\n",
      "1/1 [==============================] - 0s 20ms/step\n",
      "1/1 [==============================] - 0s 19ms/step\n",
      "1/1 [==============================] - 0s 21ms/step\n",
      "1/1 [==============================] - 0s 21ms/step\n",
      "1/1 [==============================] - 0s 21ms/step\n",
      "1/1 [==============================] - 0s 22ms/step\n",
      "1/1 [==============================] - 0s 20ms/step\n",
      "1/1 [==============================] - 0s 21ms/step\n",
      "1/1 [==============================] - 0s 25ms/step\n",
      "1/1 [==============================] - 0s 21ms/step\n",
      "1/1 [==============================] - 0s 20ms/step\n",
      "1/1 [==============================] - 0s 20ms/step\n",
      "1/1 [==============================] - 0s 20ms/step\n",
      "1/1 [==============================] - 0s 21ms/step\n",
      "1/1 [==============================] - 0s 21ms/step\n",
      "1/1 [==============================] - 0s 22ms/step\n",
      "1/1 [==============================] - 0s 21ms/step\n",
      "1/1 [==============================] - 0s 20ms/step\n",
      "1/1 [==============================] - 0s 20ms/step\n",
      "1/1 [==============================] - 0s 19ms/step\n",
      "1/1 [==============================] - 0s 19ms/step\n",
      "1/1 [==============================] - 0s 19ms/step\n",
      "1/1 [==============================] - 0s 19ms/step\n",
      "1/1 [==============================] - 0s 19ms/step\n",
      "1/1 [==============================] - 0s 20ms/step\n",
      "1/1 [==============================] - 0s 20ms/step\n",
      "1/1 [==============================] - 0s 18ms/step\n",
      "                      CPU_load   CPU_Util   Mem_util  In_traffic  Out_traffic  \\\n",
      "2024-01-01 00:00:00  19.995278   1.608453  24.941611   21.264337    -9.787649   \n",
      "2024-01-01 01:00:00  -1.894832  29.032907  23.169057   14.237377    34.408693   \n",
      "2024-01-01 02:00:00  16.808604   8.872452  17.391158   22.690282    -3.907915   \n",
      "2024-01-01 03:00:00  28.043564  19.518693  30.779331   21.165737    29.710362   \n",
      "2024-01-01 04:00:00  18.348865  28.948332  42.794121    4.477411    -2.093885   \n",
      "...                        ...        ...        ...         ...          ...   \n",
      "2024-01-06 19:00:00   4.810954  22.779125   5.355034    2.781857    14.601933   \n",
      "2024-01-06 20:00:00  36.882135  14.868969 -11.885711   25.078480    15.055817   \n",
      "2024-01-06 21:00:00  30.528507  14.406465  19.298371   21.093831    12.399633   \n",
      "2024-01-06 22:00:00  10.683718  26.067616  31.921912    3.246112    28.509971   \n",
      "2024-01-06 23:00:00   6.288602  17.613820  38.511578   46.488082    49.848216   \n",
      "\n",
      "                        host_ip host_status  \n",
      "2024-01-01 00:00:00  10.20.20.1   Device OK  \n",
      "2024-01-01 01:00:00  10.20.20.1   Device OK  \n",
      "2024-01-01 02:00:00  10.20.20.1   Device OK  \n",
      "2024-01-01 03:00:00  10.20.20.1   Device OK  \n",
      "2024-01-01 04:00:00  10.20.20.1   Device OK  \n",
      "...                         ...         ...  \n",
      "2024-01-06 19:00:00  10.20.20.1   Device OK  \n",
      "2024-01-06 20:00:00  10.20.20.1   Device OK  \n",
      "2024-01-06 21:00:00  10.20.20.1   Device OK  \n",
      "2024-01-06 22:00:00  10.20.20.1   Device OK  \n",
      "2024-01-06 23:00:00  10.20.20.1   Device OK  \n",
      "\n",
      "[144 rows x 7 columns]\n"
     ]
    },
    {
     "data": {
      "application/vnd.plotly.v1+json": {
       "config": {
        "plotlyServerURL": "https://plot.ly"
       },
       "data": [
        {
         "mode": "lines+markers",
         "name": "Host Status",
         "type": "scatter",
         "x": [
          "2024-01-01T00:00:00",
          "2024-01-01T01:00:00",
          "2024-01-01T02:00:00",
          "2024-01-01T03:00:00",
          "2024-01-01T04:00:00",
          "2024-01-01T05:00:00",
          "2024-01-01T06:00:00",
          "2024-01-01T07:00:00",
          "2024-01-01T08:00:00",
          "2024-01-01T09:00:00",
          "2024-01-01T10:00:00",
          "2024-01-01T11:00:00",
          "2024-01-01T12:00:00",
          "2024-01-01T13:00:00",
          "2024-01-01T14:00:00",
          "2024-01-01T15:00:00",
          "2024-01-01T16:00:00",
          "2024-01-01T17:00:00",
          "2024-01-01T18:00:00",
          "2024-01-01T19:00:00",
          "2024-01-01T20:00:00",
          "2024-01-01T21:00:00",
          "2024-01-01T22:00:00",
          "2024-01-01T23:00:00",
          "2024-01-02T00:00:00",
          "2024-01-02T01:00:00",
          "2024-01-02T02:00:00",
          "2024-01-02T03:00:00",
          "2024-01-02T04:00:00",
          "2024-01-02T05:00:00",
          "2024-01-02T06:00:00",
          "2024-01-02T07:00:00",
          "2024-01-02T08:00:00",
          "2024-01-02T09:00:00",
          "2024-01-02T10:00:00",
          "2024-01-02T11:00:00",
          "2024-01-02T12:00:00",
          "2024-01-02T13:00:00",
          "2024-01-02T14:00:00",
          "2024-01-02T15:00:00",
          "2024-01-02T16:00:00",
          "2024-01-02T17:00:00",
          "2024-01-02T18:00:00",
          "2024-01-02T19:00:00",
          "2024-01-02T20:00:00",
          "2024-01-02T21:00:00",
          "2024-01-02T22:00:00",
          "2024-01-02T23:00:00",
          "2024-01-03T00:00:00",
          "2024-01-03T01:00:00",
          "2024-01-03T02:00:00",
          "2024-01-03T03:00:00",
          "2024-01-03T04:00:00",
          "2024-01-03T05:00:00",
          "2024-01-03T06:00:00",
          "2024-01-03T07:00:00",
          "2024-01-03T08:00:00",
          "2024-01-03T09:00:00",
          "2024-01-03T10:00:00",
          "2024-01-03T11:00:00",
          "2024-01-03T12:00:00",
          "2024-01-03T13:00:00",
          "2024-01-03T14:00:00",
          "2024-01-03T15:00:00",
          "2024-01-03T16:00:00",
          "2024-01-03T17:00:00",
          "2024-01-03T18:00:00",
          "2024-01-03T19:00:00",
          "2024-01-03T20:00:00",
          "2024-01-03T21:00:00",
          "2024-01-03T22:00:00",
          "2024-01-03T23:00:00",
          "2024-01-04T00:00:00",
          "2024-01-04T01:00:00",
          "2024-01-04T02:00:00",
          "2024-01-04T03:00:00",
          "2024-01-04T04:00:00",
          "2024-01-04T05:00:00",
          "2024-01-04T06:00:00",
          "2024-01-04T07:00:00",
          "2024-01-04T08:00:00",
          "2024-01-04T09:00:00",
          "2024-01-04T10:00:00",
          "2024-01-04T11:00:00",
          "2024-01-04T12:00:00",
          "2024-01-04T13:00:00",
          "2024-01-04T14:00:00",
          "2024-01-04T15:00:00",
          "2024-01-04T16:00:00",
          "2024-01-04T17:00:00",
          "2024-01-04T18:00:00",
          "2024-01-04T19:00:00",
          "2024-01-04T20:00:00",
          "2024-01-04T21:00:00",
          "2024-01-04T22:00:00",
          "2024-01-04T23:00:00",
          "2024-01-05T00:00:00",
          "2024-01-05T01:00:00",
          "2024-01-05T02:00:00",
          "2024-01-05T03:00:00",
          "2024-01-05T04:00:00",
          "2024-01-05T05:00:00",
          "2024-01-05T06:00:00",
          "2024-01-05T07:00:00",
          "2024-01-05T08:00:00",
          "2024-01-05T09:00:00",
          "2024-01-05T10:00:00",
          "2024-01-05T11:00:00",
          "2024-01-05T12:00:00",
          "2024-01-05T13:00:00",
          "2024-01-05T14:00:00",
          "2024-01-05T15:00:00",
          "2024-01-05T16:00:00",
          "2024-01-05T17:00:00",
          "2024-01-05T18:00:00",
          "2024-01-05T19:00:00",
          "2024-01-05T20:00:00",
          "2024-01-05T21:00:00",
          "2024-01-05T22:00:00",
          "2024-01-05T23:00:00",
          "2024-01-06T00:00:00",
          "2024-01-06T01:00:00",
          "2024-01-06T02:00:00",
          "2024-01-06T03:00:00",
          "2024-01-06T04:00:00",
          "2024-01-06T05:00:00",
          "2024-01-06T06:00:00",
          "2024-01-06T07:00:00",
          "2024-01-06T08:00:00",
          "2024-01-06T09:00:00",
          "2024-01-06T10:00:00",
          "2024-01-06T11:00:00",
          "2024-01-06T12:00:00",
          "2024-01-06T13:00:00",
          "2024-01-06T14:00:00",
          "2024-01-06T15:00:00",
          "2024-01-06T16:00:00",
          "2024-01-06T17:00:00",
          "2024-01-06T18:00:00",
          "2024-01-06T19:00:00",
          "2024-01-06T20:00:00",
          "2024-01-06T21:00:00",
          "2024-01-06T22:00:00",
          "2024-01-06T23:00:00"
         ],
         "y": [
          "Device OK",
          "Device OK",
          "Device OK",
          "Device OK",
          "Device OK",
          "High_CPU_Util",
          "Device OK",
          "Device OK",
          "Device OK",
          "Device OK",
          "Device OK",
          "Device OK",
          "Device OK",
          "Device OK",
          "Device OK",
          "Device OK",
          "Device OK",
          "High_CPU_Util",
          "Device OK",
          "Device OK",
          "Device OK",
          "Device OK",
          "Device OK",
          "Device OK",
          "Device OK",
          "Device OK",
          "Device OK",
          "Device OK",
          "Device OK",
          "Device OK",
          "Device OK",
          "Device OK",
          "Device OK",
          "Device OK",
          "High_CPU_Util",
          "Device OK",
          "High_CPU_Util",
          "High_CPU_Util",
          "High_CPU_Util",
          "High_CPU_Util",
          "High_CPU_Util",
          "High_CPU_Util",
          "High_CPU_Util",
          "High_CPU_Util",
          "High_CPU_Util",
          "Device OK",
          "Device OK",
          "High_CPU_Util",
          "Device OK",
          "Device OK",
          "Device OK",
          "Device OK",
          "Device OK",
          "Device OK",
          "Device OK",
          "Device OK",
          "Device Down",
          "Device Down",
          "Device OK",
          "Device OK",
          "Device OK",
          "Device OK",
          "High_CPU_Util",
          "Device OK",
          "Device OK",
          "Device OK",
          "Device OK",
          "Device OK",
          "Device OK",
          "Device OK",
          "Device OK",
          "Device OK",
          "Device OK",
          "Device OK",
          "High_CPU_Util",
          "High_CPU_Util",
          "High_CPU_Util",
          "High_CPU_Util",
          "Device OK",
          "Device OK",
          "Device OK",
          "Device OK",
          "Device OK",
          "Device OK",
          "Device OK",
          "Device OK",
          "Device OK",
          "Device OK",
          "Device OK",
          "Device OK",
          "Device OK",
          "High_CPU_Util",
          "High_CPU_Util",
          "Device OK",
          "High_CPU_Util",
          "High_CPU_Util",
          "High_CPU_Util",
          "High_CPU_Util",
          "High_CPU_Util",
          "Device OK",
          "Device OK",
          "Device OK",
          "Device OK",
          "Device OK",
          "Device OK",
          "Device OK",
          "Device OK",
          "High_CPU_Util",
          "Device OK",
          "Device OK",
          "Device OK",
          "Device OK",
          "Device OK",
          "Device OK",
          "Device OK",
          "Device OK",
          "Device OK",
          "Device OK",
          "Device OK",
          "Device OK",
          "High_CPU_Util",
          "High_CPU_Util",
          "High_CPU_Util",
          "Device OK",
          "Device OK",
          "Device OK",
          "Device OK",
          "Device OK",
          "Device OK",
          "Device OK",
          "Device OK",
          "Device OK",
          "High_CPU_Util",
          "High_CPU_Util",
          "High_CPU_Util",
          "High_CPU_Util",
          "Device OK",
          "Device OK",
          "Device OK",
          "Device OK",
          "Device OK",
          "Device OK",
          "Device OK",
          "Device OK"
         ]
        }
       ],
       "layout": {
        "legend": {
         "title": {
          "text": "Status"
         }
        },
        "template": {
         "data": {
          "bar": [
           {
            "error_x": {
             "color": "#2a3f5f"
            },
            "error_y": {
             "color": "#2a3f5f"
            },
            "marker": {
             "line": {
              "color": "#E5ECF6",
              "width": 0.5
             },
             "pattern": {
              "fillmode": "overlay",
              "size": 10,
              "solidity": 0.2
             }
            },
            "type": "bar"
           }
          ],
          "barpolar": [
           {
            "marker": {
             "line": {
              "color": "#E5ECF6",
              "width": 0.5
             },
             "pattern": {
              "fillmode": "overlay",
              "size": 10,
              "solidity": 0.2
             }
            },
            "type": "barpolar"
           }
          ],
          "carpet": [
           {
            "aaxis": {
             "endlinecolor": "#2a3f5f",
             "gridcolor": "white",
             "linecolor": "white",
             "minorgridcolor": "white",
             "startlinecolor": "#2a3f5f"
            },
            "baxis": {
             "endlinecolor": "#2a3f5f",
             "gridcolor": "white",
             "linecolor": "white",
             "minorgridcolor": "white",
             "startlinecolor": "#2a3f5f"
            },
            "type": "carpet"
           }
          ],
          "choropleth": [
           {
            "colorbar": {
             "outlinewidth": 0,
             "ticks": ""
            },
            "type": "choropleth"
           }
          ],
          "contour": [
           {
            "colorbar": {
             "outlinewidth": 0,
             "ticks": ""
            },
            "colorscale": [
             [
              0,
              "#0d0887"
             ],
             [
              0.1111111111111111,
              "#46039f"
             ],
             [
              0.2222222222222222,
              "#7201a8"
             ],
             [
              0.3333333333333333,
              "#9c179e"
             ],
             [
              0.4444444444444444,
              "#bd3786"
             ],
             [
              0.5555555555555556,
              "#d8576b"
             ],
             [
              0.6666666666666666,
              "#ed7953"
             ],
             [
              0.7777777777777778,
              "#fb9f3a"
             ],
             [
              0.8888888888888888,
              "#fdca26"
             ],
             [
              1,
              "#f0f921"
             ]
            ],
            "type": "contour"
           }
          ],
          "contourcarpet": [
           {
            "colorbar": {
             "outlinewidth": 0,
             "ticks": ""
            },
            "type": "contourcarpet"
           }
          ],
          "heatmap": [
           {
            "colorbar": {
             "outlinewidth": 0,
             "ticks": ""
            },
            "colorscale": [
             [
              0,
              "#0d0887"
             ],
             [
              0.1111111111111111,
              "#46039f"
             ],
             [
              0.2222222222222222,
              "#7201a8"
             ],
             [
              0.3333333333333333,
              "#9c179e"
             ],
             [
              0.4444444444444444,
              "#bd3786"
             ],
             [
              0.5555555555555556,
              "#d8576b"
             ],
             [
              0.6666666666666666,
              "#ed7953"
             ],
             [
              0.7777777777777778,
              "#fb9f3a"
             ],
             [
              0.8888888888888888,
              "#fdca26"
             ],
             [
              1,
              "#f0f921"
             ]
            ],
            "type": "heatmap"
           }
          ],
          "heatmapgl": [
           {
            "colorbar": {
             "outlinewidth": 0,
             "ticks": ""
            },
            "colorscale": [
             [
              0,
              "#0d0887"
             ],
             [
              0.1111111111111111,
              "#46039f"
             ],
             [
              0.2222222222222222,
              "#7201a8"
             ],
             [
              0.3333333333333333,
              "#9c179e"
             ],
             [
              0.4444444444444444,
              "#bd3786"
             ],
             [
              0.5555555555555556,
              "#d8576b"
             ],
             [
              0.6666666666666666,
              "#ed7953"
             ],
             [
              0.7777777777777778,
              "#fb9f3a"
             ],
             [
              0.8888888888888888,
              "#fdca26"
             ],
             [
              1,
              "#f0f921"
             ]
            ],
            "type": "heatmapgl"
           }
          ],
          "histogram": [
           {
            "marker": {
             "pattern": {
              "fillmode": "overlay",
              "size": 10,
              "solidity": 0.2
             }
            },
            "type": "histogram"
           }
          ],
          "histogram2d": [
           {
            "colorbar": {
             "outlinewidth": 0,
             "ticks": ""
            },
            "colorscale": [
             [
              0,
              "#0d0887"
             ],
             [
              0.1111111111111111,
              "#46039f"
             ],
             [
              0.2222222222222222,
              "#7201a8"
             ],
             [
              0.3333333333333333,
              "#9c179e"
             ],
             [
              0.4444444444444444,
              "#bd3786"
             ],
             [
              0.5555555555555556,
              "#d8576b"
             ],
             [
              0.6666666666666666,
              "#ed7953"
             ],
             [
              0.7777777777777778,
              "#fb9f3a"
             ],
             [
              0.8888888888888888,
              "#fdca26"
             ],
             [
              1,
              "#f0f921"
             ]
            ],
            "type": "histogram2d"
           }
          ],
          "histogram2dcontour": [
           {
            "colorbar": {
             "outlinewidth": 0,
             "ticks": ""
            },
            "colorscale": [
             [
              0,
              "#0d0887"
             ],
             [
              0.1111111111111111,
              "#46039f"
             ],
             [
              0.2222222222222222,
              "#7201a8"
             ],
             [
              0.3333333333333333,
              "#9c179e"
             ],
             [
              0.4444444444444444,
              "#bd3786"
             ],
             [
              0.5555555555555556,
              "#d8576b"
             ],
             [
              0.6666666666666666,
              "#ed7953"
             ],
             [
              0.7777777777777778,
              "#fb9f3a"
             ],
             [
              0.8888888888888888,
              "#fdca26"
             ],
             [
              1,
              "#f0f921"
             ]
            ],
            "type": "histogram2dcontour"
           }
          ],
          "mesh3d": [
           {
            "colorbar": {
             "outlinewidth": 0,
             "ticks": ""
            },
            "type": "mesh3d"
           }
          ],
          "parcoords": [
           {
            "line": {
             "colorbar": {
              "outlinewidth": 0,
              "ticks": ""
             }
            },
            "type": "parcoords"
           }
          ],
          "pie": [
           {
            "automargin": true,
            "type": "pie"
           }
          ],
          "scatter": [
           {
            "fillpattern": {
             "fillmode": "overlay",
             "size": 10,
             "solidity": 0.2
            },
            "type": "scatter"
           }
          ],
          "scatter3d": [
           {
            "line": {
             "colorbar": {
              "outlinewidth": 0,
              "ticks": ""
             }
            },
            "marker": {
             "colorbar": {
              "outlinewidth": 0,
              "ticks": ""
             }
            },
            "type": "scatter3d"
           }
          ],
          "scattercarpet": [
           {
            "marker": {
             "colorbar": {
              "outlinewidth": 0,
              "ticks": ""
             }
            },
            "type": "scattercarpet"
           }
          ],
          "scattergeo": [
           {
            "marker": {
             "colorbar": {
              "outlinewidth": 0,
              "ticks": ""
             }
            },
            "type": "scattergeo"
           }
          ],
          "scattergl": [
           {
            "marker": {
             "colorbar": {
              "outlinewidth": 0,
              "ticks": ""
             }
            },
            "type": "scattergl"
           }
          ],
          "scattermapbox": [
           {
            "marker": {
             "colorbar": {
              "outlinewidth": 0,
              "ticks": ""
             }
            },
            "type": "scattermapbox"
           }
          ],
          "scatterpolar": [
           {
            "marker": {
             "colorbar": {
              "outlinewidth": 0,
              "ticks": ""
             }
            },
            "type": "scatterpolar"
           }
          ],
          "scatterpolargl": [
           {
            "marker": {
             "colorbar": {
              "outlinewidth": 0,
              "ticks": ""
             }
            },
            "type": "scatterpolargl"
           }
          ],
          "scatterternary": [
           {
            "marker": {
             "colorbar": {
              "outlinewidth": 0,
              "ticks": ""
             }
            },
            "type": "scatterternary"
           }
          ],
          "surface": [
           {
            "colorbar": {
             "outlinewidth": 0,
             "ticks": ""
            },
            "colorscale": [
             [
              0,
              "#0d0887"
             ],
             [
              0.1111111111111111,
              "#46039f"
             ],
             [
              0.2222222222222222,
              "#7201a8"
             ],
             [
              0.3333333333333333,
              "#9c179e"
             ],
             [
              0.4444444444444444,
              "#bd3786"
             ],
             [
              0.5555555555555556,
              "#d8576b"
             ],
             [
              0.6666666666666666,
              "#ed7953"
             ],
             [
              0.7777777777777778,
              "#fb9f3a"
             ],
             [
              0.8888888888888888,
              "#fdca26"
             ],
             [
              1,
              "#f0f921"
             ]
            ],
            "type": "surface"
           }
          ],
          "table": [
           {
            "cells": {
             "fill": {
              "color": "#EBF0F8"
             },
             "line": {
              "color": "white"
             }
            },
            "header": {
             "fill": {
              "color": "#C8D4E3"
             },
             "line": {
              "color": "white"
             }
            },
            "type": "table"
           }
          ]
         },
         "layout": {
          "annotationdefaults": {
           "arrowcolor": "#2a3f5f",
           "arrowhead": 0,
           "arrowwidth": 1
          },
          "autotypenumbers": "strict",
          "coloraxis": {
           "colorbar": {
            "outlinewidth": 0,
            "ticks": ""
           }
          },
          "colorscale": {
           "diverging": [
            [
             0,
             "#8e0152"
            ],
            [
             0.1,
             "#c51b7d"
            ],
            [
             0.2,
             "#de77ae"
            ],
            [
             0.3,
             "#f1b6da"
            ],
            [
             0.4,
             "#fde0ef"
            ],
            [
             0.5,
             "#f7f7f7"
            ],
            [
             0.6,
             "#e6f5d0"
            ],
            [
             0.7,
             "#b8e186"
            ],
            [
             0.8,
             "#7fbc41"
            ],
            [
             0.9,
             "#4d9221"
            ],
            [
             1,
             "#276419"
            ]
           ],
           "sequential": [
            [
             0,
             "#0d0887"
            ],
            [
             0.1111111111111111,
             "#46039f"
            ],
            [
             0.2222222222222222,
             "#7201a8"
            ],
            [
             0.3333333333333333,
             "#9c179e"
            ],
            [
             0.4444444444444444,
             "#bd3786"
            ],
            [
             0.5555555555555556,
             "#d8576b"
            ],
            [
             0.6666666666666666,
             "#ed7953"
            ],
            [
             0.7777777777777778,
             "#fb9f3a"
            ],
            [
             0.8888888888888888,
             "#fdca26"
            ],
            [
             1,
             "#f0f921"
            ]
           ],
           "sequentialminus": [
            [
             0,
             "#0d0887"
            ],
            [
             0.1111111111111111,
             "#46039f"
            ],
            [
             0.2222222222222222,
             "#7201a8"
            ],
            [
             0.3333333333333333,
             "#9c179e"
            ],
            [
             0.4444444444444444,
             "#bd3786"
            ],
            [
             0.5555555555555556,
             "#d8576b"
            ],
            [
             0.6666666666666666,
             "#ed7953"
            ],
            [
             0.7777777777777778,
             "#fb9f3a"
            ],
            [
             0.8888888888888888,
             "#fdca26"
            ],
            [
             1,
             "#f0f921"
            ]
           ]
          },
          "colorway": [
           "#636efa",
           "#EF553B",
           "#00cc96",
           "#ab63fa",
           "#FFA15A",
           "#19d3f3",
           "#FF6692",
           "#B6E880",
           "#FF97FF",
           "#FECB52"
          ],
          "font": {
           "color": "#2a3f5f"
          },
          "geo": {
           "bgcolor": "white",
           "lakecolor": "white",
           "landcolor": "#E5ECF6",
           "showlakes": true,
           "showland": true,
           "subunitcolor": "white"
          },
          "hoverlabel": {
           "align": "left"
          },
          "hovermode": "closest",
          "mapbox": {
           "style": "light"
          },
          "paper_bgcolor": "white",
          "plot_bgcolor": "#E5ECF6",
          "polar": {
           "angularaxis": {
            "gridcolor": "white",
            "linecolor": "white",
            "ticks": ""
           },
           "bgcolor": "#E5ECF6",
           "radialaxis": {
            "gridcolor": "white",
            "linecolor": "white",
            "ticks": ""
           }
          },
          "scene": {
           "xaxis": {
            "backgroundcolor": "#E5ECF6",
            "gridcolor": "white",
            "gridwidth": 2,
            "linecolor": "white",
            "showbackground": true,
            "ticks": "",
            "zerolinecolor": "white"
           },
           "yaxis": {
            "backgroundcolor": "#E5ECF6",
            "gridcolor": "white",
            "gridwidth": 2,
            "linecolor": "white",
            "showbackground": true,
            "ticks": "",
            "zerolinecolor": "white"
           },
           "zaxis": {
            "backgroundcolor": "#E5ECF6",
            "gridcolor": "white",
            "gridwidth": 2,
            "linecolor": "white",
            "showbackground": true,
            "ticks": "",
            "zerolinecolor": "white"
           }
          },
          "shapedefaults": {
           "line": {
            "color": "#2a3f5f"
           }
          },
          "ternary": {
           "aaxis": {
            "gridcolor": "white",
            "linecolor": "white",
            "ticks": ""
           },
           "baxis": {
            "gridcolor": "white",
            "linecolor": "white",
            "ticks": ""
           },
           "bgcolor": "#E5ECF6",
           "caxis": {
            "gridcolor": "white",
            "linecolor": "white",
            "ticks": ""
           }
          },
          "title": {
           "x": 0.05
          },
          "xaxis": {
           "automargin": true,
           "gridcolor": "white",
           "linecolor": "white",
           "ticks": "",
           "title": {
            "standoff": 15
           },
           "zerolinecolor": "white",
           "zerolinewidth": 2
          },
          "yaxis": {
           "automargin": true,
           "gridcolor": "white",
           "linecolor": "white",
           "ticks": "",
           "title": {
            "standoff": 15
           },
           "zerolinecolor": "white",
           "zerolinewidth": 2
          }
         }
        },
        "title": {
         "text": "Predicted Host Status Over Time"
        },
        "xaxis": {
         "title": {
          "text": "Time"
         }
        },
        "yaxis": {
         "title": {
          "text": "Host Status"
         }
        }
       }
      }
     },
     "metadata": {},
     "output_type": "display_data"
    }
   ],
   "source": [
    "# Generate predictions for the next 48 time steps\n",
    "num_predictions = 24*6\n",
    "last_window = combined_features[-window_size:]  # Get the last 'window_size' rows\n",
    " \n",
    "predictions_lstm = []\n",
    "predicted_features_lstm = []\n",
    " \n",
    "for _ in range(num_predictions):\n",
    "    # Predict next value\n",
    "    prediction_lstm = model_lstm.predict(last_window[np.newaxis, :, :])\n",
    "    predicted_class_lstm = np.argmax(prediction_lstm, axis=1)  # Get predicted class\n",
    "    predictions_lstm.append(predicted_class_lstm[0])\n",
    "    \n",
    "    # Approximate new feature values for the new time step\n",
    "    new_feature_row_lstm = np.random.randn(len(columns_to_scale))  # Assuming normal distribution for simplicity\n",
    "    encoded_categorical_values = np.random.randint(0, np.max(encoded_features, axis=0), size=encoded_features.shape[1])\n",
    "    new_combined_features = np.hstack((new_feature_row_lstm, encoded_categorical_values))\n",
    "    predicted_features_lstm.append(new_combined_features)\n",
    "    \n",
    "    # Update the window with the new prediction and feature values\n",
    "    last_window = np.vstack([last_window[1:], new_combined_features])  # Slide window\n",
    " \n",
    "# Convert predictions back to original labels\n",
    "predicted_labels_lstm = label_encoders['host_status'].inverse_transform(predictions_lstm)\n",
    " \n",
    "# Separate the scaled numerical and encoded categorical features\n",
    "predicted_features_lstm = np.array(predicted_features_lstm)\n",
    "predicted_numerical_features_cnn = predicted_features_lstm[:, :len(columns_to_scale)]\n",
    "predicted_categorical_features_lstm = predicted_features_lstm[:, len(columns_to_scale):]\n",
    " \n",
    "# Convert scaled predicted numerical features back to original scale\n",
    "predicted_numerical_original_scale_cnn = scaler.inverse_transform(predicted_numerical_features_cnn)\n",
    " \n",
    "# Create a DataFrame for the next 48 time steps\n",
    "future_dates_cnn = pd.date_range(start=df.index[-1] + pd.Timedelta(hours=1), periods=num_predictions, freq='H')\n",
    "predicted_df_lstm = pd.DataFrame(predicted_numerical_original_scale_cnn, columns=columns_to_scale, index=future_dates_cnn)\n",
    " \n",
    "# Revert the label-encoded categorical columns back to their original form\n",
    "for i, column in enumerate(categorical_columns):\n",
    "    predicted_df_lstm[column] = label_encoders[column].inverse_transform(predicted_categorical_features_lstm[:, i].astype(int))\n",
    " \n",
    "predicted_df_lstm['host_status'] = predicted_labels_lstm\n",
    " \n",
    "# Display the final DataFrame\n",
    "print(predicted_df_lstm[['CPU_load', 'CPU_Util', 'Mem_util', 'In_traffic', 'Out_traffic', 'host_ip', 'host_status']])\n",
    "\n",
    "\n",
    "# ************************************************visualization in plotly*********************************************************************\n",
    "import plotly.graph_objs as go\n",
    "\n",
    "# Create a line plot for the 'host_status' column over time\n",
    "fig = go.Figure()\n",
    "\n",
    "fig.add_trace(go.Scatter(\n",
    "    x=predicted_df_lstm.index,\n",
    "    y=predicted_df_lstm['host_status'],\n",
    "    mode='lines+markers',\n",
    "    name='Host Status'\n",
    "))\n",
    "\n",
    "fig.update_layout(\n",
    "    title=\"Predicted Host Status Over Time\",\n",
    "    xaxis_title=\"Time\",\n",
    "    yaxis_title=\"Host Status\",\n",
    "    legend_title=\"Status\"\n",
    ")\n",
    "\n",
    "fig.show()\n"
   ]
  },
  {
   "cell_type": "code",
   "execution_count": null,
   "metadata": {},
   "outputs": [],
   "source": []
  }
 ],
 "metadata": {
  "kernelspec": {
   "display_name": "Python 3 (ipykernel)",
   "language": "python",
   "name": "python3"
  },
  "language_info": {
   "codemirror_mode": {
    "name": "ipython",
    "version": 3
   },
   "file_extension": ".py",
   "mimetype": "text/x-python",
   "name": "python",
   "nbconvert_exporter": "python",
   "pygments_lexer": "ipython3",
   "version": "3.9.19"
  }
 },
 "nbformat": 4,
 "nbformat_minor": 2
}
