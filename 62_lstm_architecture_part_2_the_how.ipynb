{
 "cells": [
  {
   "cell_type": "markdown",
   "metadata": {},
   "source": [
    "- lstm STM and LTM ko interact krwata hai. \n",
    "- lstm input me 3 things leta hai :--> \n",
    "    - 1. previous cell state \n",
    "    - 2. previous hidden state \n",
    "    - 3. input for the current time \n",
    "- lstm output me 2 things return krta hai:--> \n",
    "    - 1. current hidden state \n",
    "    - 2. current cell state \n",
    "- lstm ke ander 2-things hote hain:---> \n",
    "    - 1. calculate ht \n",
    "    - 2. update the cell state\n",
    "- ht and ct are the vectors aur in dono ka dimention hamesha same hota hai. \n",
    "- aur xt bhi ek vector hai. \n",
    "- "
   ]
  },
  {
   "cell_type": "markdown",
   "metadata": {},
   "source": []
  }
 ],
 "metadata": {
  "kernelspec": {
   "display_name": "base",
   "language": "python",
   "name": "python3"
  },
  "language_info": {
   "codemirror_mode": {
    "name": "ipython",
    "version": 3
   },
   "file_extension": ".py",
   "mimetype": "text/x-python",
   "name": "python",
   "nbconvert_exporter": "python",
   "pygments_lexer": "ipython3",
   "version": "3.9.13"
  }
 },
 "nbformat": 4,
 "nbformat_minor": 2
}
