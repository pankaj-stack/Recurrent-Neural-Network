{
 "cells": [
  {
   "cell_type": "markdown",
   "metadata": {},
   "source": [
    "- NER : Named Entity Recognition \n",
    "- why we use bidirectional rnn :\n",
    "    - we use bidirectional rnn when past input is affected by the future input.\n",
    "- I love **amazon**,it's a beautiful **website**.\n",
    "- I love **amazon**,it's a beautiful **river**.\n",
    "- Bidirectional rnn nlp and machine translation me use hoti hai.\n"
   ]
  },
  {
   "cell_type": "markdown",
   "metadata": {},
   "source": [
    "- aur hum bidirectional rnn hum kisi ke sath use kr sakte jaise SimpleRNN,LSTM and GRU ke sath.\n",
    "- BiRNN se jyada BiLSTM use hota hai. "
   ]
  },
  {
   "cell_type": "markdown",
   "metadata": {},
   "source": [
    "Application and Drawbacks"
   ]
  },
  {
   "cell_type": "markdown",
   "metadata": {},
   "source": [
    "- Applications\n",
    "    - 1. Named Entity Recognition(NER)\n",
    "    - 2. Parts of Speech Tagging(POS)\n",
    "    - 3. Machine Translation \n",
    "    - 4. Sentiment Analysis (isme bhi bidirectional rnn use kiya jata result achcha aata hai) \n",
    "    - 5. Time-Series Forecasting (isme bhi bidirectional rnn achcha perform krta hai jaise BiLSTM) "
   ]
  },
  {
   "cell_type": "markdown",
   "metadata": {},
   "source": [
    "- Drawbacks \n",
    "\n",
    "    - Complexity (isme normal rnn me 2-times weight ho jata hai ) jisse training time increases and bahut chances hote hai ki overfit ho jaaye.\n",
    "    - live speech recognition me bidirectional rnn causes latency issue q ki pura data available nhi hota."
   ]
  }
 ],
 "metadata": {
  "language_info": {
   "name": "python"
  }
 },
 "nbformat": 4,
 "nbformat_minor": 2
}
