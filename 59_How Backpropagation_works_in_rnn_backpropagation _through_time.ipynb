{
 "cells": [
  {
   "cell_type": "markdown",
   "metadata": {},
   "source": [
    "- rnn ke backpropagation ko hum (backpropagation through time) bolte hain.\n",
    "- rnn me by default jo activation hota hai vo __tanh__ hota hai. \n",
    "- rnns are designed to process sequences of data. This could be anything from a sentence in natural language processing (where each word or character is a timestep) to financial time series data (where each day or minute is a timestep). \n",
    "- backpropagation : calculate(y_hat--> loss[y_hat-y]---> gradient descent--->update the weights) aur ye ese chalta rehta hai."
   ]
  },
  {
   "cell_type": "markdown",
   "metadata": {},
   "source": []
  }
 ],
 "metadata": {
  "language_info": {
   "name": "python"
  }
 },
 "nbformat": 4,
 "nbformat_minor": 2
}
