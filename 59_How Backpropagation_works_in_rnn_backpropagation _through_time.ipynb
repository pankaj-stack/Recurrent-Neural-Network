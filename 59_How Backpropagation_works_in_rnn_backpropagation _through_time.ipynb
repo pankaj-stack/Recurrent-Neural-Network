{
 "cells": [
  {
   "cell_type": "markdown",
   "metadata": {},
   "source": [
    "- rnn ke backpropagation ko hum (backpropagation through time) bolte hain.\n",
    "- rnn me by default jo activation hota hai vo tanh hota hai. \n",
    "- time-step means ki aapke sentence me kitne word hain. \n",
    "- backpropagation : calculate(y_hat--> loss[y_hat-y]---> gradient descent--->update the weights) aur ye ese chalta rehta hai."
   ]
  },
  {
   "cell_type": "markdown",
   "metadata": {},
   "source": []
  }
 ],
 "metadata": {
  "language_info": {
   "name": "python"
  }
 },
 "nbformat": 4,
 "nbformat_minor": 2
}
