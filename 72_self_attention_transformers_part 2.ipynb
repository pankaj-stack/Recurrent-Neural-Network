{
 "cells": [
  {
   "cell_type": "markdown",
   "metadata": {
    "vscode": {
     "languageId": "plaintext"
    }
   },
   "source": [
    "- onehotencoding,bag of words(BOW) etc. se wordembedding bahut advance hai. \n",
    "- wordembedding word ke semantic meaning ko bhi extract kr leta hai isliye ye achcha hai auro se.\n",
    "- wordembedding word ka **average meaning** ko samghta hai ya vector me convert krta hai. \n",
    "- **self attention** wordembedding(static context) se **smart contextual embedding** kr ke deta hai."
   ]
  },
  {
   "cell_type": "code",
   "execution_count": 1,
   "metadata": {},
   "outputs": [],
   "source": [
    "def self_attention(wordembedding_or_static_context_of_the_word):\n",
    "\n",
    "    return 'smart contextual embedding'"
   ]
  },
  {
   "cell_type": "code",
   "execution_count": null,
   "metadata": {},
   "outputs": [],
   "source": []
  }
 ],
 "metadata": {
  "kernelspec": {
   "display_name": "base",
   "language": "python",
   "name": "python3"
  },
  "language_info": {
   "codemirror_mode": {
    "name": "ipython",
    "version": 3
   },
   "file_extension": ".py",
   "mimetype": "text/x-python",
   "name": "python",
   "nbconvert_exporter": "python",
   "pygments_lexer": "ipython3",
   "version": "3.9.13"
  }
 },
 "nbformat": 4,
 "nbformat_minor": 2
}
